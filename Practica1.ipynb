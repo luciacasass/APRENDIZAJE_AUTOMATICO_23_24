{
  "nbformat": 4,
  "nbformat_minor": 0,
  "metadata": {
    "colab": {
      "provenance": [],
      "authorship_tag": "ABX9TyMYHFBP+rKBf8fu83EG+Ukq",
      "include_colab_link": true
    },
    "kernelspec": {
      "name": "python3",
      "display_name": "Python 3"
    },
    "language_info": {
      "name": "python"
    }
  },
  "cells": [
    {
      "cell_type": "markdown",
      "metadata": {
        "id": "view-in-github",
        "colab_type": "text"
      },
      "source": [
        "<a href=\"https://colab.research.google.com/github/luciacasass/APRENDIZAJE_AUTOMATICO_23_24/blob/main/Practica1.ipynb\" target=\"_parent\"><img src=\"https://colab.research.google.com/assets/colab-badge.svg\" alt=\"Open In Colab\"/></a>"
      ]
    },
    {
      "cell_type": "markdown",
      "source": [
        "# Práctica 1. Diseño, Entrenamiento y Test de un Sistema de Redes de Neuronas Artificiales\n",
        "## Aprendizaje Automático\n",
        "Lucía Casas Sierra, Alba López Devesa, Paula Redondo Sastre"
      ],
      "metadata": {
        "id": "zI3nxE-QG6Iz"
      }
    },
    {
      "cell_type": "markdown",
      "source": [
        "**Introducción...**"
      ],
      "metadata": {
        "id": "buxVGAB_ReJc"
      }
    },
    {
      "cell_type": "code",
      "source": [
        "# 1._ IMPORTAMOS KERAS\n",
        "%tensorflow_version 2.x   # librería interna que ejecuta de forma eficiente los tensores; es el motor del sistema para hacer cálculo de multiplicaciones de matrices etc\n",
        "import tensorflow as tf\n",
        "from tensorflow import keras\n",
        "# print(tf.keras.__version__)\n",
        "print(\"GPU Available:\", tf.config.list_physical_devices('GPU'))\n",
        "print(tf.__version__)"
      ],
      "metadata": {
        "colab": {
          "base_uri": "https://localhost:8080/"
        },
        "id": "rmHOclbiHcg2",
        "outputId": "76660278-0784-47d2-ca2b-05c22e00738e"
      },
      "execution_count": 61,
      "outputs": [
        {
          "output_type": "stream",
          "name": "stdout",
          "text": [
            "Colab only includes TensorFlow 2.x; %tensorflow_version has no effect.\n",
            "GPU Available: []\n",
            "2.13.0\n"
          ]
        }
      ]
    },
    {
      "cell_type": "markdown",
      "source": [
        "Cargamos el conjunto de datos Fashion-MNIST en Keras"
      ],
      "metadata": {
        "id": "eZIxYczcIBVv"
      }
    },
    {
      "cell_type": "code",
      "source": [
        "# 2.- CARGAMOS EL CONJUNTO DE DATOS MINIST EN KERAS\n",
        "# mnist = tf.keras.datasets.mnist\n",
        "from keras.datasets import mnist  # 70k imágenes\n",
        "\n",
        "(train_images, train_labels), (test_images, test_labels) = tf.keras.datasets.fashion_mnist.load_data()"
      ],
      "metadata": {
        "id": "M5Eg9tJRIBgG"
      },
      "execution_count": 62,
      "outputs": []
    },
    {
      "cell_type": "markdown",
      "source": [
        "Comprobación de la forma de los datos..."
      ],
      "metadata": {
        "id": "3iiU0lI7RjNU"
      }
    },
    {
      "cell_type": "code",
      "source": [
        "print(train_images.shape)"
      ],
      "metadata": {
        "colab": {
          "base_uri": "https://localhost:8080/"
        },
        "id": "R5x2_Y4sIcfG",
        "outputId": "b99b792d-2c6c-4901-9954-33aff08a9250"
      },
      "execution_count": 63,
      "outputs": [
        {
          "output_type": "stream",
          "name": "stdout",
          "text": [
            "(60000, 28, 28)\n"
          ]
        }
      ]
    },
    {
      "cell_type": "markdown",
      "source": [
        "**Construcción de la RNA**\n",
        "\n",
        "..."
      ],
      "metadata": {
        "id": "3mktVEU4STj3"
      }
    },
    {
      "cell_type": "code",
      "source": [
        "from keras import models\n",
        "from keras import layers\n",
        "\n",
        "# Creación de la lista con las cadenas model1, model2, ..., model8 que servirán\n",
        "# para nombrar cada uno de los distintos modelos de estudio\n",
        "cadena = ['model'] * 8\n",
        "for i in range(8):\n",
        "  cadena[i] = cadena[i] + str(i+1)\n",
        "\n",
        "cont = 0\n",
        "\n",
        "# Construcción\n",
        "for n in [10, 512]:\n",
        "  for act in ['relu', 'sigmoid']:\n",
        "    for opt in ['sgd', 'rmsprop']:\n",
        "      cadena[cont] = vars()\n",
        "      cadena[cont] = models.Sequential()\n",
        "\n",
        "      cadena[cont].add(layers.Dense(n, activation=act, input_shape=(28*28,)))\n",
        "      cadena[cont].add(layers.Dense(10, activation = 'softmax'))\n",
        "\n",
        "      cadena[cont].compile(optimizer=opt,\n",
        "                loss='categorical_crossentropy',\n",
        "                metrics=['accuracy'])\n",
        "      cont += 1"
      ],
      "metadata": {
        "id": "kLMzyL2fSfio"
      },
      "execution_count": 64,
      "outputs": []
    },
    {
      "cell_type": "markdown",
      "source": [
        "**Resumen de cada uno de los diferentes modelos**\n",
        "\n",
        "..."
      ],
      "metadata": {
        "id": "tloubzgjZdqV"
      }
    },
    {
      "cell_type": "code",
      "source": [
        "for i in range(8):\n",
        "  print(f'\\nResumen del modelo para los siguientes datos:\\n{n} capas, función de activación {act}\\n')\n",
        "  cadena[i].summary()"
      ],
      "metadata": {
        "colab": {
          "base_uri": "https://localhost:8080/"
        },
        "id": "wutIkHkyZeBy",
        "outputId": "ed271f74-83ae-4619-e427-ded01c9259bd"
      },
      "execution_count": 65,
      "outputs": [
        {
          "output_type": "stream",
          "name": "stdout",
          "text": [
            "\n",
            "Resumen del modelo para los siguientes datos:\n",
            "512 capas, función de activación sigmoid\n",
            "\n",
            "Model: \"sequential_121\"\n",
            "_________________________________________________________________\n",
            " Layer (type)                Output Shape              Param #   \n",
            "=================================================================\n",
            " dense_241 (Dense)           (None, 10)                7850      \n",
            "                                                                 \n",
            " dense_242 (Dense)           (None, 10)                110       \n",
            "                                                                 \n",
            "=================================================================\n",
            "Total params: 7960 (31.09 KB)\n",
            "Trainable params: 7960 (31.09 KB)\n",
            "Non-trainable params: 0 (0.00 Byte)\n",
            "_________________________________________________________________\n",
            "\n",
            "Resumen del modelo para los siguientes datos:\n",
            "512 capas, función de activación sigmoid\n",
            "\n",
            "Model: \"sequential_122\"\n",
            "_________________________________________________________________\n",
            " Layer (type)                Output Shape              Param #   \n",
            "=================================================================\n",
            " dense_243 (Dense)           (None, 10)                7850      \n",
            "                                                                 \n",
            " dense_244 (Dense)           (None, 10)                110       \n",
            "                                                                 \n",
            "=================================================================\n",
            "Total params: 7960 (31.09 KB)\n",
            "Trainable params: 7960 (31.09 KB)\n",
            "Non-trainable params: 0 (0.00 Byte)\n",
            "_________________________________________________________________\n",
            "\n",
            "Resumen del modelo para los siguientes datos:\n",
            "512 capas, función de activación sigmoid\n",
            "\n",
            "Model: \"sequential_123\"\n",
            "_________________________________________________________________\n",
            " Layer (type)                Output Shape              Param #   \n",
            "=================================================================\n",
            " dense_245 (Dense)           (None, 10)                7850      \n",
            "                                                                 \n",
            " dense_246 (Dense)           (None, 10)                110       \n",
            "                                                                 \n",
            "=================================================================\n",
            "Total params: 7960 (31.09 KB)\n",
            "Trainable params: 7960 (31.09 KB)\n",
            "Non-trainable params: 0 (0.00 Byte)\n",
            "_________________________________________________________________\n",
            "\n",
            "Resumen del modelo para los siguientes datos:\n",
            "512 capas, función de activación sigmoid\n",
            "\n",
            "Model: \"sequential_124\"\n",
            "_________________________________________________________________\n",
            " Layer (type)                Output Shape              Param #   \n",
            "=================================================================\n",
            " dense_247 (Dense)           (None, 10)                7850      \n",
            "                                                                 \n",
            " dense_248 (Dense)           (None, 10)                110       \n",
            "                                                                 \n",
            "=================================================================\n",
            "Total params: 7960 (31.09 KB)\n",
            "Trainable params: 7960 (31.09 KB)\n",
            "Non-trainable params: 0 (0.00 Byte)\n",
            "_________________________________________________________________\n",
            "\n",
            "Resumen del modelo para los siguientes datos:\n",
            "512 capas, función de activación sigmoid\n",
            "\n",
            "Model: \"sequential_125\"\n",
            "_________________________________________________________________\n",
            " Layer (type)                Output Shape              Param #   \n",
            "=================================================================\n",
            " dense_249 (Dense)           (None, 512)               401920    \n",
            "                                                                 \n",
            " dense_250 (Dense)           (None, 10)                5130      \n",
            "                                                                 \n",
            "=================================================================\n",
            "Total params: 407050 (1.55 MB)\n",
            "Trainable params: 407050 (1.55 MB)\n",
            "Non-trainable params: 0 (0.00 Byte)\n",
            "_________________________________________________________________\n",
            "\n",
            "Resumen del modelo para los siguientes datos:\n",
            "512 capas, función de activación sigmoid\n",
            "\n",
            "Model: \"sequential_126\"\n",
            "_________________________________________________________________\n",
            " Layer (type)                Output Shape              Param #   \n",
            "=================================================================\n",
            " dense_251 (Dense)           (None, 512)               401920    \n",
            "                                                                 \n",
            " dense_252 (Dense)           (None, 10)                5130      \n",
            "                                                                 \n",
            "=================================================================\n",
            "Total params: 407050 (1.55 MB)\n",
            "Trainable params: 407050 (1.55 MB)\n",
            "Non-trainable params: 0 (0.00 Byte)\n",
            "_________________________________________________________________\n",
            "\n",
            "Resumen del modelo para los siguientes datos:\n",
            "512 capas, función de activación sigmoid\n",
            "\n",
            "Model: \"sequential_127\"\n",
            "_________________________________________________________________\n",
            " Layer (type)                Output Shape              Param #   \n",
            "=================================================================\n",
            " dense_253 (Dense)           (None, 512)               401920    \n",
            "                                                                 \n",
            " dense_254 (Dense)           (None, 10)                5130      \n",
            "                                                                 \n",
            "=================================================================\n",
            "Total params: 407050 (1.55 MB)\n",
            "Trainable params: 407050 (1.55 MB)\n",
            "Non-trainable params: 0 (0.00 Byte)\n",
            "_________________________________________________________________\n",
            "\n",
            "Resumen del modelo para los siguientes datos:\n",
            "512 capas, función de activación sigmoid\n",
            "\n",
            "Model: \"sequential_128\"\n",
            "_________________________________________________________________\n",
            " Layer (type)                Output Shape              Param #   \n",
            "=================================================================\n",
            " dense_255 (Dense)           (None, 512)               401920    \n",
            "                                                                 \n",
            " dense_256 (Dense)           (None, 10)                5130      \n",
            "                                                                 \n",
            "=================================================================\n",
            "Total params: 407050 (1.55 MB)\n",
            "Trainable params: 407050 (1.55 MB)\n",
            "Non-trainable params: 0 (0.00 Byte)\n",
            "_________________________________________________________________\n"
          ]
        }
      ]
    },
    {
      "cell_type": "markdown",
      "source": [
        "**Preparación de los datos previa**\n",
        "\n",
        "..."
      ],
      "metadata": {
        "id": "VlEkWKcIavM8"
      }
    },
    {
      "cell_type": "code",
      "source": [],
      "metadata": {
        "id": "tyoT-RNIa8ju"
      },
      "execution_count": 65,
      "outputs": []
    },
    {
      "cell_type": "markdown",
      "source": [
        "**Entrenamiento de los sistemas**\n",
        "\n",
        "..."
      ],
      "metadata": {
        "id": "jJNNHtyGaTqg"
      }
    },
    {
      "cell_type": "code",
      "source": [],
      "metadata": {
        "id": "Vi88IWEsaXBA"
      },
      "execution_count": 65,
      "outputs": []
    },
    {
      "cell_type": "markdown",
      "source": [
        "**Interpretación de los casos 2 y 7 al incrementar las épocas de entrenamiento**\n",
        "\n",
        "..."
      ],
      "metadata": {
        "id": "4M_6wIddZ2I6"
      }
    },
    {
      "cell_type": "code",
      "source": [],
      "metadata": {
        "id": "yKrcr4bXZ2T-"
      },
      "execution_count": 65,
      "outputs": []
    }
  ]
}