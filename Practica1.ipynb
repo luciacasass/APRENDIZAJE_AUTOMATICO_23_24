{
  "nbformat": 4,
  "nbformat_minor": 0,
  "metadata": {
    "colab": {
      "provenance": [],
      "authorship_tag": "ABX9TyPNjKncy6+EmAyC6Epp8KYc",
      "include_colab_link": true
    },
    "kernelspec": {
      "name": "python3",
      "display_name": "Python 3"
    },
    "language_info": {
      "name": "python"
    }
  },
  "cells": [
    {
      "cell_type": "markdown",
      "metadata": {
        "id": "view-in-github",
        "colab_type": "text"
      },
      "source": [
        "<a href=\"https://colab.research.google.com/github/luciacasass/APRENDIZAJE_AUTOMATICO_23_24/blob/main/Practica1.ipynb\" target=\"_parent\"><img src=\"https://colab.research.google.com/assets/colab-badge.svg\" alt=\"Open In Colab\"/></a>"
      ]
    },
    {
      "cell_type": "markdown",
      "source": [
        "# Práctica 1. Diseño, Entrenamiento y Test de un Sistema de Redes de Neuronas Artificiales\n",
        "## Aprendizaje Automático\n",
        "Lucía Casas Sierra, Alba López Devesa, Paula Redondo Sastre"
      ],
      "metadata": {
        "id": "zI3nxE-QG6Iz"
      }
    },
    {
      "cell_type": "markdown",
      "source": [
        "**Introducción...**"
      ],
      "metadata": {
        "id": "buxVGAB_ReJc"
      }
    },
    {
      "cell_type": "code",
      "source": [
        "# 1._ IMPORTAMOS KERAS\n",
        "%tensorflow_version 2.x   # librería interna que ejecuta de forma eficiente los tensores; es el motor del sistema para hacer cálculo de multiplicaciones de matrices etc\n",
        "import tensorflow as tf\n",
        "from tensorflow import keras\n",
        "# print(tf.keras.__version__)\n",
        "print(\"GPU Available:\", tf.config.list_physical_devices('GPU'))\n",
        "print(tf.__version__)"
      ],
      "metadata": {
        "colab": {
          "base_uri": "https://localhost:8080/"
        },
        "id": "rmHOclbiHcg2",
        "outputId": "1731a486-0da8-4a41-dfeb-2a0f8f6957d2"
      },
      "execution_count": 2,
      "outputs": [
        {
          "output_type": "stream",
          "name": "stdout",
          "text": [
            "Colab only includes TensorFlow 2.x; %tensorflow_version has no effect.\n",
            "GPU Available: []\n",
            "2.13.0\n"
          ]
        }
      ]
    },
    {
      "cell_type": "markdown",
      "source": [
        "Cargamos el conjunto de datos Fashion-MNIST en Keras"
      ],
      "metadata": {
        "id": "eZIxYczcIBVv"
      }
    },
    {
      "cell_type": "code",
      "source": [
        "# 2.- CARGAMOS EL CONJUNTO DE DATOS MINIST EN KERAS\n",
        "# mnist = tf.keras.datasets.mnist\n",
        "from keras.datasets import mnist  # 70k imágenes\n",
        "\n",
        "(train_images, train_labels), (test_images, test_labels) = tf.keras.datasets.fashion_mnist.load_data()"
      ],
      "metadata": {
        "colab": {
          "base_uri": "https://localhost:8080/"
        },
        "id": "M5Eg9tJRIBgG",
        "outputId": "ec40fb7d-d246-461b-d3d6-1626a6eebce0"
      },
      "execution_count": 3,
      "outputs": [
        {
          "output_type": "stream",
          "name": "stdout",
          "text": [
            "Downloading data from https://storage.googleapis.com/tensorflow/tf-keras-datasets/train-labels-idx1-ubyte.gz\n",
            "29515/29515 [==============================] - 0s 0us/step\n",
            "Downloading data from https://storage.googleapis.com/tensorflow/tf-keras-datasets/train-images-idx3-ubyte.gz\n",
            "26421880/26421880 [==============================] - 0s 0us/step\n",
            "Downloading data from https://storage.googleapis.com/tensorflow/tf-keras-datasets/t10k-labels-idx1-ubyte.gz\n",
            "5148/5148 [==============================] - 0s 0us/step\n",
            "Downloading data from https://storage.googleapis.com/tensorflow/tf-keras-datasets/t10k-images-idx3-ubyte.gz\n",
            "4422102/4422102 [==============================] - 0s 0us/step\n"
          ]
        }
      ]
    },
    {
      "cell_type": "markdown",
      "source": [
        "Comprobación de la forma de los datos..."
      ],
      "metadata": {
        "id": "3iiU0lI7RjNU"
      }
    },
    {
      "cell_type": "code",
      "source": [
        "print(train_images.shape)"
      ],
      "metadata": {
        "colab": {
          "base_uri": "https://localhost:8080/"
        },
        "id": "R5x2_Y4sIcfG",
        "outputId": "09bf8c90-d327-4321-b57f-96e71eda360f"
      },
      "execution_count": 4,
      "outputs": [
        {
          "output_type": "stream",
          "name": "stdout",
          "text": [
            "(60000, 28, 28)\n"
          ]
        }
      ]
    },
    {
      "cell_type": "markdown",
      "source": [
        "**Construcción de la RNA**\n",
        "\n",
        "..."
      ],
      "metadata": {
        "id": "3mktVEU4STj3"
      }
    },
    {
      "cell_type": "code",
      "source": [
        "from keras import models\n",
        "from keras import layers\n",
        "\n",
        "\n",
        "for n in [10, 512]:\n",
        "  for act in ['relu', 'sigmoid']:\n",
        "    for opt in ['sgd', 'rmsprop']:\n",
        "      model = models.Sequential()\n",
        "\n",
        "      model.add(layers.Dense(n, activation=act, input_shape=(28*28,)))\n",
        "      model.add(layers.Dense(10, activation = 'softmax'))\n",
        "\n",
        "      print(f'\\nResumen del modelo para los siguientes datos:\\n{n} capas, función de activación {act}\\n')\n",
        "      model.summary()\n",
        "\n",
        "      model.compile(optimizer=opt,\n",
        "                loss='categorical_crossentropy',\n",
        "                metrics=['accuracy'])"
      ],
      "metadata": {
        "id": "kLMzyL2fSfio",
        "outputId": "345f3a93-b280-4cd1-9534-0a3f1c96c95a",
        "colab": {
          "base_uri": "https://localhost:8080/"
        }
      },
      "execution_count": 22,
      "outputs": [
        {
          "output_type": "stream",
          "name": "stdout",
          "text": [
            "\n",
            "Resumen del modelo para los siguientes datos:\n",
            "10 capas, función de activación relu\n",
            "\n",
            "Model: \"sequential_52\"\n",
            "_________________________________________________________________\n",
            " Layer (type)                Output Shape              Param #   \n",
            "=================================================================\n",
            " dense_103 (Dense)           (None, 10)                7850      \n",
            "                                                                 \n",
            " dense_104 (Dense)           (None, 10)                110       \n",
            "                                                                 \n",
            "=================================================================\n",
            "Total params: 7960 (31.09 KB)\n",
            "Trainable params: 7960 (31.09 KB)\n",
            "Non-trainable params: 0 (0.00 Byte)\n",
            "_________________________________________________________________\n",
            "\n",
            "Resumen del modelo para los siguientes datos:\n",
            "10 capas, función de activación relu\n",
            "\n",
            "Model: \"sequential_53\"\n",
            "_________________________________________________________________\n",
            " Layer (type)                Output Shape              Param #   \n",
            "=================================================================\n",
            " dense_105 (Dense)           (None, 10)                7850      \n",
            "                                                                 \n",
            " dense_106 (Dense)           (None, 10)                110       \n",
            "                                                                 \n",
            "=================================================================\n",
            "Total params: 7960 (31.09 KB)\n",
            "Trainable params: 7960 (31.09 KB)\n",
            "Non-trainable params: 0 (0.00 Byte)\n",
            "_________________________________________________________________\n",
            "\n",
            "Resumen del modelo para los siguientes datos:\n",
            "10 capas, función de activación sigmoid\n",
            "\n",
            "Model: \"sequential_54\"\n",
            "_________________________________________________________________\n",
            " Layer (type)                Output Shape              Param #   \n",
            "=================================================================\n",
            " dense_107 (Dense)           (None, 10)                7850      \n",
            "                                                                 \n",
            " dense_108 (Dense)           (None, 10)                110       \n",
            "                                                                 \n",
            "=================================================================\n",
            "Total params: 7960 (31.09 KB)\n",
            "Trainable params: 7960 (31.09 KB)\n",
            "Non-trainable params: 0 (0.00 Byte)\n",
            "_________________________________________________________________\n",
            "\n",
            "Resumen del modelo para los siguientes datos:\n",
            "10 capas, función de activación sigmoid\n",
            "\n",
            "Model: \"sequential_55\"\n",
            "_________________________________________________________________\n",
            " Layer (type)                Output Shape              Param #   \n",
            "=================================================================\n",
            " dense_109 (Dense)           (None, 10)                7850      \n",
            "                                                                 \n",
            " dense_110 (Dense)           (None, 10)                110       \n",
            "                                                                 \n",
            "=================================================================\n",
            "Total params: 7960 (31.09 KB)\n",
            "Trainable params: 7960 (31.09 KB)\n",
            "Non-trainable params: 0 (0.00 Byte)\n",
            "_________________________________________________________________\n",
            "\n",
            "Resumen del modelo para los siguientes datos:\n",
            "512 capas, función de activación relu\n",
            "\n",
            "Model: \"sequential_56\"\n",
            "_________________________________________________________________\n",
            " Layer (type)                Output Shape              Param #   \n",
            "=================================================================\n",
            " dense_111 (Dense)           (None, 512)               401920    \n",
            "                                                                 \n",
            " dense_112 (Dense)           (None, 10)                5130      \n",
            "                                                                 \n",
            "=================================================================\n",
            "Total params: 407050 (1.55 MB)\n",
            "Trainable params: 407050 (1.55 MB)\n",
            "Non-trainable params: 0 (0.00 Byte)\n",
            "_________________________________________________________________\n",
            "\n",
            "Resumen del modelo para los siguientes datos:\n",
            "512 capas, función de activación relu\n",
            "\n",
            "Model: \"sequential_57\"\n",
            "_________________________________________________________________\n",
            " Layer (type)                Output Shape              Param #   \n",
            "=================================================================\n",
            " dense_113 (Dense)           (None, 512)               401920    \n",
            "                                                                 \n",
            " dense_114 (Dense)           (None, 10)                5130      \n",
            "                                                                 \n",
            "=================================================================\n",
            "Total params: 407050 (1.55 MB)\n",
            "Trainable params: 407050 (1.55 MB)\n",
            "Non-trainable params: 0 (0.00 Byte)\n",
            "_________________________________________________________________\n",
            "\n",
            "Resumen del modelo para los siguientes datos:\n",
            "512 capas, función de activación sigmoid\n",
            "\n",
            "Model: \"sequential_58\"\n",
            "_________________________________________________________________\n",
            " Layer (type)                Output Shape              Param #   \n",
            "=================================================================\n",
            " dense_115 (Dense)           (None, 512)               401920    \n",
            "                                                                 \n",
            " dense_116 (Dense)           (None, 10)                5130      \n",
            "                                                                 \n",
            "=================================================================\n",
            "Total params: 407050 (1.55 MB)\n",
            "Trainable params: 407050 (1.55 MB)\n",
            "Non-trainable params: 0 (0.00 Byte)\n",
            "_________________________________________________________________\n",
            "\n",
            "Resumen del modelo para los siguientes datos:\n",
            "512 capas, función de activación sigmoid\n",
            "\n",
            "Model: \"sequential_59\"\n",
            "_________________________________________________________________\n",
            " Layer (type)                Output Shape              Param #   \n",
            "=================================================================\n",
            " dense_117 (Dense)           (None, 512)               401920    \n",
            "                                                                 \n",
            " dense_118 (Dense)           (None, 10)                5130      \n",
            "                                                                 \n",
            "=================================================================\n",
            "Total params: 407050 (1.55 MB)\n",
            "Trainable params: 407050 (1.55 MB)\n",
            "Non-trainable params: 0 (0.00 Byte)\n",
            "_________________________________________________________________\n"
          ]
        }
      ]
    },
    {
      "cell_type": "code",
      "source": [],
      "metadata": {
        "id": "Ntkvo3IqVG2h"
      },
      "execution_count": null,
      "outputs": []
    }
  ]
}