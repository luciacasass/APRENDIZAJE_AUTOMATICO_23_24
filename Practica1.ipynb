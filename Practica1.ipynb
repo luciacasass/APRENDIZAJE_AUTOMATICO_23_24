{
  "nbformat": 4,
  "nbformat_minor": 0,
  "metadata": {
    "colab": {
      "provenance": [],
      "authorship_tag": "ABX9TyP6G3RMrmkGTzQ1ltwFHAYR",
      "include_colab_link": true
    },
    "kernelspec": {
      "name": "python3",
      "display_name": "Python 3"
    },
    "language_info": {
      "name": "python"
    }
  },
  "cells": [
    {
      "cell_type": "markdown",
      "metadata": {
        "id": "view-in-github",
        "colab_type": "text"
      },
      "source": [
        "<a href=\"https://colab.research.google.com/github/luciacasass/APRENDIZAJE_AUTOMATICO_23_24/blob/main/Practica1.ipynb\" target=\"_parent\"><img src=\"https://colab.research.google.com/assets/colab-badge.svg\" alt=\"Open In Colab\"/></a>"
      ]
    },
    {
      "cell_type": "markdown",
      "source": [
        "# Práctica 1. Diseño, Entrenamiento y Test de un Sistema de Redes de Neuronas Artificiales\n",
        "## Aprendizaje Automático\n",
        "Lucía Casas Sierra, Alba López Devesa, Paula Redondo Sastre"
      ],
      "metadata": {
        "id": "zI3nxE-QG6Iz"
      }
    },
    {
      "cell_type": "markdown",
      "source": [
        "**Introducción...**"
      ],
      "metadata": {
        "id": "buxVGAB_ReJc"
      }
    },
    {
      "cell_type": "code",
      "source": [
        "# 1._ IMPORTAMOS KERAS\n",
        "%tensorflow_version 2.x   # librería interna que ejecuta de forma eficiente los tensores; es el motor del sistema para hacer cálculo de multiplicaciones de matrices etc\n",
        "import numpy as np\n",
        "import tensorflow as tf\n",
        "from tensorflow import keras\n",
        "from tensorflow.keras import layers\n",
        "from keras import utils\n",
        "from keras.datasets import mnist  # 70k imágenes\n",
        "\n",
        "print(\"GPU Available:\", tf.config.list_physical_devices('GPU'))\n",
        "print(tf.__version__)"
      ],
      "metadata": {
        "colab": {
          "base_uri": "https://localhost:8080/"
        },
        "id": "rmHOclbiHcg2",
        "outputId": "95add4f1-4a1a-4152-c397-1cd6bde03422"
      },
      "execution_count": 99,
      "outputs": [
        {
          "output_type": "stream",
          "name": "stdout",
          "text": [
            "Colab only includes TensorFlow 2.x; %tensorflow_version has no effect.\n",
            "GPU Available: []\n",
            "2.13.0\n"
          ]
        }
      ]
    },
    {
      "cell_type": "markdown",
      "source": [
        "Cargamos el conjunto de datos Fashion-MNIST en Keras"
      ],
      "metadata": {
        "id": "eZIxYczcIBVv"
      }
    },
    {
      "cell_type": "code",
      "source": [
        "# 2.- CARGAMOS EL CONJUNTO DE DATOS MINIST EN KERAS\n",
        "\n",
        "(train_images, train_labels), (test_images, test_labels) = tf.keras.datasets.fashion_mnist.load_data()"
      ],
      "metadata": {
        "id": "M5Eg9tJRIBgG"
      },
      "execution_count": 100,
      "outputs": []
    },
    {
      "cell_type": "markdown",
      "source": [
        "Comprobación de la forma de los datos..."
      ],
      "metadata": {
        "id": "3iiU0lI7RjNU"
      }
    },
    {
      "cell_type": "code",
      "source": [
        "print(train_images.shape)"
      ],
      "metadata": {
        "colab": {
          "base_uri": "https://localhost:8080/"
        },
        "id": "R5x2_Y4sIcfG",
        "outputId": "d93473f4-491f-436d-87fc-a82a9d43e2a3"
      },
      "execution_count": 101,
      "outputs": [
        {
          "output_type": "stream",
          "name": "stdout",
          "text": [
            "(60000, 28, 28)\n"
          ]
        }
      ]
    },
    {
      "cell_type": "markdown",
      "source": [
        "**Construcción de la RNA**\n",
        "\n",
        "..."
      ],
      "metadata": {
        "id": "3mktVEU4STj3"
      }
    },
    {
      "cell_type": "code",
      "source": [
        "from keras import models\n",
        "from keras import layers\n",
        "\n",
        "# Creación de la lista con las cadenas model1, model2, ..., model8 que servirán\n",
        "# para nombrar cada uno de los distintos modelos de estudio\n",
        "cadena = ['model'] * 8\n",
        "for i in range(8):\n",
        "  cadena[i] = cadena[i] + str(i+1)\n",
        "\n",
        "cont = 0\n",
        "\n",
        "# Construcción\n",
        "for n in [10, 512]:\n",
        "  for act in ['relu', 'sigmoid']:\n",
        "    for opt in ['sgd', 'rmsprop']:\n",
        "      cadena[cont] = vars()\n",
        "      cadena[cont] = models.Sequential()\n",
        "\n",
        "      cadena[cont].add(layers.Dense(n, activation=act, input_shape=(28*28,)))\n",
        "      cadena[cont].add(layers.Dense(10, activation = 'softmax'))\n",
        "\n",
        "      cadena[cont].compile(optimizer=opt,\n",
        "                loss='categorical_crossentropy',\n",
        "                metrics=['accuracy'])\n",
        "      cont += 1"
      ],
      "metadata": {
        "id": "kLMzyL2fSfio"
      },
      "execution_count": 102,
      "outputs": []
    },
    {
      "cell_type": "markdown",
      "source": [
        "**Resumen de cada uno de los diferentes modelos**\n",
        "\n",
        "..."
      ],
      "metadata": {
        "id": "tloubzgjZdqV"
      }
    },
    {
      "cell_type": "code",
      "source": [
        "for i in range(8):\n",
        "  print(f'\\nResumen del modelo para los siguientes datos:\\n{n} capas, función de activación {act}\\n')\n",
        "  cadena[i].summary()"
      ],
      "metadata": {
        "colab": {
          "base_uri": "https://localhost:8080/"
        },
        "id": "wutIkHkyZeBy",
        "outputId": "256e0991-29de-4b11-c55b-4b12579a84ce"
      },
      "execution_count": 103,
      "outputs": [
        {
          "output_type": "stream",
          "name": "stdout",
          "text": [
            "\n",
            "Resumen del modelo para los siguientes datos:\n",
            "512 capas, función de activación sigmoid\n",
            "\n",
            "Model: \"sequential_64\"\n",
            "_________________________________________________________________\n",
            " Layer (type)                Output Shape              Param #   \n",
            "=================================================================\n",
            " dense_128 (Dense)           (None, 10)                7850      \n",
            "                                                                 \n",
            " dense_129 (Dense)           (None, 10)                110       \n",
            "                                                                 \n",
            "=================================================================\n",
            "Total params: 7960 (31.09 KB)\n",
            "Trainable params: 7960 (31.09 KB)\n",
            "Non-trainable params: 0 (0.00 Byte)\n",
            "_________________________________________________________________\n",
            "\n",
            "Resumen del modelo para los siguientes datos:\n",
            "512 capas, función de activación sigmoid\n",
            "\n",
            "Model: \"sequential_65\"\n",
            "_________________________________________________________________\n",
            " Layer (type)                Output Shape              Param #   \n",
            "=================================================================\n",
            " dense_130 (Dense)           (None, 10)                7850      \n",
            "                                                                 \n",
            " dense_131 (Dense)           (None, 10)                110       \n",
            "                                                                 \n",
            "=================================================================\n",
            "Total params: 7960 (31.09 KB)\n",
            "Trainable params: 7960 (31.09 KB)\n",
            "Non-trainable params: 0 (0.00 Byte)\n",
            "_________________________________________________________________\n",
            "\n",
            "Resumen del modelo para los siguientes datos:\n",
            "512 capas, función de activación sigmoid\n",
            "\n",
            "Model: \"sequential_66\"\n",
            "_________________________________________________________________\n",
            " Layer (type)                Output Shape              Param #   \n",
            "=================================================================\n",
            " dense_132 (Dense)           (None, 10)                7850      \n",
            "                                                                 \n",
            " dense_133 (Dense)           (None, 10)                110       \n",
            "                                                                 \n",
            "=================================================================\n",
            "Total params: 7960 (31.09 KB)\n",
            "Trainable params: 7960 (31.09 KB)\n",
            "Non-trainable params: 0 (0.00 Byte)\n",
            "_________________________________________________________________\n",
            "\n",
            "Resumen del modelo para los siguientes datos:\n",
            "512 capas, función de activación sigmoid\n",
            "\n",
            "Model: \"sequential_67\"\n",
            "_________________________________________________________________\n",
            " Layer (type)                Output Shape              Param #   \n",
            "=================================================================\n",
            " dense_134 (Dense)           (None, 10)                7850      \n",
            "                                                                 \n",
            " dense_135 (Dense)           (None, 10)                110       \n",
            "                                                                 \n",
            "=================================================================\n",
            "Total params: 7960 (31.09 KB)\n",
            "Trainable params: 7960 (31.09 KB)\n",
            "Non-trainable params: 0 (0.00 Byte)\n",
            "_________________________________________________________________\n",
            "\n",
            "Resumen del modelo para los siguientes datos:\n",
            "512 capas, función de activación sigmoid\n",
            "\n",
            "Model: \"sequential_68\"\n",
            "_________________________________________________________________\n",
            " Layer (type)                Output Shape              Param #   \n",
            "=================================================================\n",
            " dense_136 (Dense)           (None, 512)               401920    \n",
            "                                                                 \n",
            " dense_137 (Dense)           (None, 10)                5130      \n",
            "                                                                 \n",
            "=================================================================\n",
            "Total params: 407050 (1.55 MB)\n",
            "Trainable params: 407050 (1.55 MB)\n",
            "Non-trainable params: 0 (0.00 Byte)\n",
            "_________________________________________________________________\n",
            "\n",
            "Resumen del modelo para los siguientes datos:\n",
            "512 capas, función de activación sigmoid\n",
            "\n",
            "Model: \"sequential_69\"\n",
            "_________________________________________________________________\n",
            " Layer (type)                Output Shape              Param #   \n",
            "=================================================================\n",
            " dense_138 (Dense)           (None, 512)               401920    \n",
            "                                                                 \n",
            " dense_139 (Dense)           (None, 10)                5130      \n",
            "                                                                 \n",
            "=================================================================\n",
            "Total params: 407050 (1.55 MB)\n",
            "Trainable params: 407050 (1.55 MB)\n",
            "Non-trainable params: 0 (0.00 Byte)\n",
            "_________________________________________________________________\n",
            "\n",
            "Resumen del modelo para los siguientes datos:\n",
            "512 capas, función de activación sigmoid\n",
            "\n",
            "Model: \"sequential_70\"\n",
            "_________________________________________________________________\n",
            " Layer (type)                Output Shape              Param #   \n",
            "=================================================================\n",
            " dense_140 (Dense)           (None, 512)               401920    \n",
            "                                                                 \n",
            " dense_141 (Dense)           (None, 10)                5130      \n",
            "                                                                 \n",
            "=================================================================\n",
            "Total params: 407050 (1.55 MB)\n",
            "Trainable params: 407050 (1.55 MB)\n",
            "Non-trainable params: 0 (0.00 Byte)\n",
            "_________________________________________________________________\n",
            "\n",
            "Resumen del modelo para los siguientes datos:\n",
            "512 capas, función de activación sigmoid\n",
            "\n",
            "Model: \"sequential_71\"\n",
            "_________________________________________________________________\n",
            " Layer (type)                Output Shape              Param #   \n",
            "=================================================================\n",
            " dense_142 (Dense)           (None, 512)               401920    \n",
            "                                                                 \n",
            " dense_143 (Dense)           (None, 10)                5130      \n",
            "                                                                 \n",
            "=================================================================\n",
            "Total params: 407050 (1.55 MB)\n",
            "Trainable params: 407050 (1.55 MB)\n",
            "Non-trainable params: 0 (0.00 Byte)\n",
            "_________________________________________________________________\n"
          ]
        }
      ]
    },
    {
      "cell_type": "markdown",
      "source": [
        "**Preparación de los datos previa**\n",
        "\n",
        "..."
      ],
      "metadata": {
        "id": "VlEkWKcIavM8"
      }
    },
    {
      "cell_type": "code",
      "source": [
        "train_images = train_images.reshape((60000, 28 * 28))   # la neurona no acepta de entrada una matriz, sino un vector\n",
        "print(train_images)\n",
        "print(len(train_images))\n",
        "print(train_images.shape)\n",
        "np.set_printoptions(precision=2, suppress=True, linewidth=145)\n",
        "print(np.matrix(train_images[3000]))"
      ],
      "metadata": {
        "id": "tyoT-RNIa8ju",
        "colab": {
          "base_uri": "https://localhost:8080/"
        },
        "outputId": "9b3dde02-7a84-40a0-d3d7-a0a1e41a24aa"
      },
      "execution_count": 104,
      "outputs": [
        {
          "output_type": "stream",
          "name": "stdout",
          "text": [
            "[[0 0 0 ... 0 0 0]\n",
            " [0 0 0 ... 0 0 0]\n",
            " [0 0 0 ... 0 0 0]\n",
            " ...\n",
            " [0 0 0 ... 0 0 0]\n",
            " [0 0 0 ... 0 0 0]\n",
            " [0 0 0 ... 0 0 0]]\n",
            "60000\n",
            "(60000, 784)\n",
            "[[  0   0   0   0   0   0   0   0   1   1   0   0 120 131  91 147  30   0   0   1   1   0   0   0   0   0   0   0   0   0   0   0   0   0   1\n",
            "    3   0   0   0   0 251 199 172 195 152   0   0   0   0   3   1   0   0   0   0   0   0   0   0   0   0   0   0   0   0  43 124 193 166 239\n",
            "  255 216 172 228 126  61   0   0   0   0   0   0   0   0   0   0   0   0   0   0   0  96 167 155 159 171 178 211 215 210 196 189 158 164 159\n",
            "  108   0   0   0   0   0   0   0   0   0   0   0   0  83 157 131 117 120 148 148 145 178 159 174 160 123 132 142 172  38   0   0   0   0   0\n",
            "    0   0   0   0   0   0 159 128 118 120 122 112  93 124 161 109 128 128 129 146 138 167 122   0   0   0   0   0   0   0   0   0   0   0 171\n",
            "  135 120 114 118 119 107 125 123 117 124 124 119 145 147 166 148   0   0   0   0   0   0   0   0   0   0   4 171 138 126 120 117 118 102 122\n",
            "  145 111 120 122 120 152 154 155 170   0   0   0   0   0   0   0   0   0   0  31 170 129 138 125 113 106 103 118 137 108 135 130 158 182 138\n",
            "  143 186   0   0   0   0   0   0   0   0   0   0  58 163 114 137 143 119 103 100 109 118 109 129 134 172 181 131 136 190   0   0   0   0   0\n",
            "    0   0   0   0   0  76 160 113 141 148 128 111 101 116 137 111 131 142 167 183 136 120 186  12   0   0   0   0   0   0   0   0   0 100 148\n",
            "  108 147 147 134 120 105 116 131 116 136 137 165 192 137 113 187  30   0   0   0   0   0   0   0   0   0 114 143 108 158 147 130 125 106 114\n",
            "  122 119 129 134 160 196 136 109 182  51   0   0   0   0   0   0   0   0   0 120 140 117 151 148 131 124 109 120 143 120 130 128 159 188 111\n",
            "  108 178  66   0   0   0   0   0   0   0   0   0 125 129 128 112 145 140 122 113 118 134 117 132 128 166 157  91 120 170  74   0   0   0   0\n",
            "    0   0   0   0   0 126 123 138  74 140 143 124 111 112 126 120 130 129 175 120  88 128 164  91   0   0   0   0   0   0   0   0   0 124 123\n",
            "  157  45 145 143 124 113 119 148 122 131 129 183  90  73 137 155  99   0   0   0   0   0   0   0   0   0 118 122 167   0 143 149 122 112 118\n",
            "  137 116 132 126 183  73  50 152 147 101   0   0   0   0   0   0   0   0   0 111 128 164   0 142 151 122 111 117 132 120 136 125 182  90  18\n",
            "  164 145 107   0   0   0   0   0   0   0   0   0 109 132 158   0 146 148 120 108 125 157 120 136 131 176 111   0 164 143 118   0   0   0   0\n",
            "    0   0   0   0   0 111 141 140   0 148 149 120 114 123 137 124 137 131 171 135   0 157 147 125   0   0   0   0   0   0   0   0   0 111 154\n",
            "  111   0 155 148 118 116 124 143 123 131 129 167 155   0 129 157 129   0   0   0   0   0   0   0   0   0 109 155  87   0 157 145 119 117 126\n",
            "  154 126 130 123 161 160   0  97 163 130   0   0   0   0   0   0   0   0   0 124 142  54   0 149 141 119 119 124 136 129 126 120 153 175   0\n",
            "   76 145 137   0   0   0   0   0   0   0   0   0 136 151  47   0 149 137 119 118 126 143 132 130 123 153 172   0  66 148 154   0   0   0   0\n",
            "    0   0   0   0   0 109 174  48   0 154 138 119 117 124 138 130 129 125 159 167   0  58 174 128   0   0   0   0   0   0   0   0   0   0   0\n",
            "    0   0  85 182 147 136 143 158 146 148 153 199  70   0   0   0   0   0   0   0   0   0   0   0   0   0   0   0   0   0   0  26  54  72  83\n",
            "   96  85  80  61  14   0   0   0   0   0   0   0   0   0]]\n"
          ]
        }
      ]
    },
    {
      "cell_type": "code",
      "source": [
        "train_images = train_images.astype('float32') / 255\n",
        "train_images, len(train_images), train_images.shape, train_images[3000]"
      ],
      "metadata": {
        "colab": {
          "base_uri": "https://localhost:8080/"
        },
        "id": "eq_OoLhFSZQt",
        "outputId": "750db190-a9f6-4698-8a00-554e3f4d40ce"
      },
      "execution_count": 105,
      "outputs": [
        {
          "output_type": "execute_result",
          "data": {
            "text/plain": [
              "(array([[0., 0., 0., ..., 0., 0., 0.],\n",
              "        [0., 0., 0., ..., 0., 0., 0.],\n",
              "        [0., 0., 0., ..., 0., 0., 0.],\n",
              "        ...,\n",
              "        [0., 0., 0., ..., 0., 0., 0.],\n",
              "        [0., 0., 0., ..., 0., 0., 0.],\n",
              "        [0., 0., 0., ..., 0., 0., 0.]], dtype=float32),\n",
              " 60000,\n",
              " (60000, 784),\n",
              " array([0.  , 0.  , 0.  , 0.  , 0.  , 0.  , 0.  , 0.  , 0.  , 0.  , 0.  , 0.  , 0.47, 0.51, 0.36, 0.58, 0.12, 0.  , 0.  , 0.  , 0.  , 0.  , 0.  ,\n",
              "        0.  , 0.  , 0.  , 0.  , 0.  , 0.  , 0.  , 0.  , 0.  , 0.  , 0.  , 0.  , 0.01, 0.  , 0.  , 0.  , 0.  , 0.98, 0.78, 0.67, 0.76, 0.6 , 0.  ,\n",
              "        0.  , 0.  , 0.  , 0.01, 0.  , 0.  , 0.  , 0.  , 0.  , 0.  , 0.  , 0.  , 0.  , 0.  , 0.  , 0.  , 0.  , 0.  , 0.  , 0.17, 0.49, 0.76, 0.65,\n",
              "        0.94, 1.  , 0.85, 0.67, 0.89, 0.49, 0.24, 0.  , 0.  , 0.  , 0.  , 0.  , 0.  , 0.  , 0.  , 0.  , 0.  , 0.  , 0.  , 0.  , 0.  , 0.  , 0.38,\n",
              "        0.65, 0.61, 0.62, 0.67, 0.7 , 0.83, 0.84, 0.82, 0.77, 0.74, 0.62, 0.64, 0.62, 0.42, 0.  , 0.  , 0.  , 0.  , 0.  , 0.  , 0.  , 0.  , 0.  ,\n",
              "        0.  , 0.  , 0.  , 0.33, 0.62, 0.51, 0.46, 0.47, 0.58, 0.58, 0.57, 0.7 , 0.62, 0.68, 0.63, 0.48, 0.52, 0.56, 0.67, 0.15, 0.  , 0.  , 0.  ,\n",
              "        0.  , 0.  , 0.  , 0.  , 0.  , 0.  , 0.  , 0.  , 0.62, 0.5 , 0.46, 0.47, 0.48, 0.44, 0.36, 0.49, 0.63, 0.43, 0.5 , 0.5 , 0.51, 0.57, 0.54,\n",
              "        0.65, 0.48, 0.  , 0.  , 0.  , 0.  , 0.  , 0.  , 0.  , 0.  , 0.  , 0.  , 0.  , 0.67, 0.53, 0.47, 0.45, 0.46, 0.47, 0.42, 0.49, 0.48, 0.46,\n",
              "        0.49, 0.49, 0.47, 0.57, 0.58, 0.65, 0.58, 0.  , 0.  , 0.  , 0.  , 0.  , 0.  , 0.  , 0.  , 0.  , 0.  , 0.02, 0.67, 0.54, 0.49, 0.47, 0.46,\n",
              "        0.46, 0.4 , 0.48, 0.57, 0.44, 0.47, 0.48, 0.47, 0.6 , 0.6 , 0.61, 0.67, 0.  , 0.  , 0.  , 0.  , 0.  , 0.  , 0.  , 0.  , 0.  , 0.  , 0.12,\n",
              "        0.67, 0.51, 0.54, 0.49, 0.44, 0.42, 0.4 , 0.46, 0.54, 0.42, 0.53, 0.51, 0.62, 0.71, 0.54, 0.56, 0.73, 0.  , 0.  , 0.  , 0.  , 0.  , 0.  ,\n",
              "        0.  , 0.  , 0.  , 0.  , 0.23, 0.64, 0.45, 0.54, 0.56, 0.47, 0.4 , 0.39, 0.43, 0.46, 0.43, 0.51, 0.53, 0.67, 0.71, 0.51, 0.53, 0.75, 0.  ,\n",
              "        0.  , 0.  , 0.  , 0.  , 0.  , 0.  , 0.  , 0.  , 0.  , 0.3 , 0.63, 0.44, 0.55, 0.58, 0.5 , 0.44, 0.4 , 0.45, 0.54, 0.44, 0.51, 0.56, 0.65,\n",
              "        0.72, 0.53, 0.47, 0.73, 0.05, 0.  , 0.  , 0.  , 0.  , 0.  , 0.  , 0.  , 0.  , 0.  , 0.39, 0.58, 0.42, 0.58, 0.58, 0.53, 0.47, 0.41, 0.45,\n",
              "        0.51, 0.45, 0.53, 0.54, 0.65, 0.75, 0.54, 0.44, 0.73, 0.12, 0.  , 0.  , 0.  , 0.  , 0.  , 0.  , 0.  , 0.  , 0.  , 0.45, 0.56, 0.42, 0.62,\n",
              "        0.58, 0.51, 0.49, 0.42, 0.45, 0.48, 0.47, 0.51, 0.53, 0.63, 0.77, 0.53, 0.43, 0.71, 0.2 , 0.  , 0.  , 0.  , 0.  , 0.  , 0.  , 0.  , 0.  ,\n",
              "        0.  , 0.47, 0.55, 0.46, 0.59, 0.58, 0.51, 0.49, 0.43, 0.47, 0.56, 0.47, 0.51, 0.5 , 0.62, 0.74, 0.44, 0.42, 0.7 , 0.26, 0.  , 0.  , 0.  ,\n",
              "        0.  , 0.  , 0.  , 0.  , 0.  , 0.  , 0.49, 0.51, 0.5 , 0.44, 0.57, 0.55, 0.48, 0.44, 0.46, 0.53, 0.46, 0.52, 0.5 , 0.65, 0.62, 0.36, 0.47,\n",
              "        0.67, 0.29, 0.  , 0.  , 0.  , 0.  , 0.  , 0.  , 0.  , 0.  , 0.  , 0.49, 0.48, 0.54, 0.29, 0.55, 0.56, 0.49, 0.44, 0.44, 0.49, 0.47, 0.51,\n",
              "        0.51, 0.69, 0.47, 0.35, 0.5 , 0.64, 0.36, 0.  , 0.  , 0.  , 0.  , 0.  , 0.  , 0.  , 0.  , 0.  , 0.49, 0.48, 0.62, 0.18, 0.57, 0.56, 0.49,\n",
              "        0.44, 0.47, 0.58, 0.48, 0.51, 0.51, 0.72, 0.35, 0.29, 0.54, 0.61, 0.39, 0.  , 0.  , 0.  , 0.  , 0.  , 0.  , 0.  , 0.  , 0.  , 0.46, 0.48,\n",
              "        0.65, 0.  , 0.56, 0.58, 0.48, 0.44, 0.46, 0.54, 0.45, 0.52, 0.49, 0.72, 0.29, 0.2 , 0.6 , 0.58, 0.4 , 0.  , 0.  , 0.  , 0.  , 0.  , 0.  ,\n",
              "        0.  , 0.  , 0.  , 0.44, 0.5 , 0.64, 0.  , 0.56, 0.59, 0.48, 0.44, 0.46, 0.52, 0.47, 0.53, 0.49, 0.71, 0.35, 0.07, 0.64, 0.57, 0.42, 0.  ,\n",
              "        0.  , 0.  , 0.  , 0.  , 0.  , 0.  , 0.  , 0.  , 0.43, 0.52, 0.62, 0.  , 0.57, 0.58, 0.47, 0.42, 0.49, 0.62, 0.47, 0.53, 0.51, 0.69, 0.44,\n",
              "        0.  , 0.64, 0.56, 0.46, 0.  , 0.  , 0.  , 0.  , 0.  , 0.  , 0.  , 0.  , 0.  , 0.44, 0.55, 0.55, 0.  , 0.58, 0.58, 0.47, 0.45, 0.48, 0.54,\n",
              "        0.49, 0.54, 0.51, 0.67, 0.53, 0.  , 0.62, 0.58, 0.49, 0.  , 0.  , 0.  , 0.  , 0.  , 0.  , 0.  , 0.  , 0.  , 0.44, 0.6 , 0.44, 0.  , 0.61,\n",
              "        0.58, 0.46, 0.45, 0.49, 0.56, 0.48, 0.51, 0.51, 0.65, 0.61, 0.  , 0.51, 0.62, 0.51, 0.  , 0.  , 0.  , 0.  , 0.  , 0.  , 0.  , 0.  , 0.  ,\n",
              "        0.43, 0.61, 0.34, 0.  , 0.62, 0.57, 0.47, 0.46, 0.49, 0.6 , 0.49, 0.51, 0.48, 0.63, 0.63, 0.  , 0.38, 0.64, 0.51, 0.  , 0.  , 0.  , 0.  ,\n",
              "        0.  , 0.  , 0.  , 0.  , 0.  , 0.49, 0.56, 0.21, 0.  , 0.58, 0.55, 0.47, 0.47, 0.49, 0.53, 0.51, 0.49, 0.47, 0.6 , 0.69, 0.  , 0.3 , 0.57,\n",
              "        0.54, 0.  , 0.  , 0.  , 0.  , 0.  , 0.  , 0.  , 0.  , 0.  , 0.53, 0.59, 0.18, 0.  , 0.58, 0.54, 0.47, 0.46, 0.49, 0.56, 0.52, 0.51, 0.48,\n",
              "        0.6 , 0.67, 0.  , 0.26, 0.58, 0.6 , 0.  , 0.  , 0.  , 0.  , 0.  , 0.  , 0.  , 0.  , 0.  , 0.43, 0.68, 0.19, 0.  , 0.6 , 0.54, 0.47, 0.46,\n",
              "        0.49, 0.54, 0.51, 0.51, 0.49, 0.62, 0.65, 0.  , 0.23, 0.68, 0.5 , 0.  , 0.  , 0.  , 0.  , 0.  , 0.  , 0.  , 0.  , 0.  , 0.  , 0.  , 0.  ,\n",
              "        0.  , 0.33, 0.71, 0.58, 0.53, 0.56, 0.62, 0.57, 0.58, 0.6 , 0.78, 0.27, 0.  , 0.  , 0.  , 0.  , 0.  , 0.  , 0.  , 0.  , 0.  , 0.  , 0.  ,\n",
              "        0.  , 0.  , 0.  , 0.  , 0.  , 0.  , 0.  , 0.1 , 0.21, 0.28, 0.33, 0.38, 0.33, 0.31, 0.24, 0.05, 0.  , 0.  , 0.  , 0.  , 0.  , 0.  , 0.  ,\n",
              "        0.  , 0.  ], dtype=float32))"
            ]
          },
          "metadata": {},
          "execution_count": 105
        }
      ]
    },
    {
      "cell_type": "code",
      "source": [
        "test_images = test_images.reshape((10000, 28 * 28))\n",
        "test_images = test_images.astype('float32') / 255"
      ],
      "metadata": {
        "id": "0s2f5YuqSewi"
      },
      "execution_count": 106,
      "outputs": []
    },
    {
      "cell_type": "code",
      "source": [
        "from keras.utils import to_categorical\n",
        "\n",
        "train_labels = to_categorical(train_labels)\n",
        "test_labels = to_categorical(test_labels)\n",
        "train_labels[30000]"
      ],
      "metadata": {
        "colab": {
          "base_uri": "https://localhost:8080/"
        },
        "id": "Vy04IdmSSk-g",
        "outputId": "828da8e4-bce7-41f1-9d45-0e1c1ec9cf78"
      },
      "execution_count": 107,
      "outputs": [
        {
          "output_type": "execute_result",
          "data": {
            "text/plain": [
              "array([0., 0., 0., 1., 0., 0., 0., 0., 0., 0.], dtype=float32)"
            ]
          },
          "metadata": {},
          "execution_count": 107
        }
      ]
    },
    {
      "cell_type": "markdown",
      "source": [
        "**Entrenamiento de los sistemas**\n",
        "\n",
        "..."
      ],
      "metadata": {
        "id": "jJNNHtyGaTqg"
      }
    },
    {
      "cell_type": "code",
      "source": [
        "for i in range(8):\n",
        "  print(f'\\nEntrenamiento de la red neuronal para el modelo {i+1}\\n')\n",
        "  cadena[i].fit(train_images, train_labels, epochs=5, batch_size=128)\n",
        "  test_loss, test_acc = cadena[i].evaluate(test_images, test_labels)\n",
        "  print('test_loss:', test_loss)\n",
        "  print('test_acc:', test_acc)"
      ],
      "metadata": {
        "id": "Vi88IWEsaXBA",
        "colab": {
          "base_uri": "https://localhost:8080/"
        },
        "outputId": "21205e54-1f67-46bb-eba8-5ed39a66d443"
      },
      "execution_count": 108,
      "outputs": [
        {
          "output_type": "stream",
          "name": "stdout",
          "text": [
            "\n",
            "Entrenamiento de la red neuronal para el modelo 1\n",
            "\n",
            "Epoch 1/5\n",
            "469/469 [==============================] - 1s 2ms/step - loss: 1.3510 - accuracy: 0.5722\n",
            "Epoch 2/5\n",
            "469/469 [==============================] - 1s 2ms/step - loss: 0.8058 - accuracy: 0.7336\n",
            "Epoch 3/5\n",
            "469/469 [==============================] - 1s 2ms/step - loss: 0.6846 - accuracy: 0.7692\n",
            "Epoch 4/5\n",
            "469/469 [==============================] - 1s 3ms/step - loss: 0.6234 - accuracy: 0.7892\n",
            "Epoch 5/5\n",
            "469/469 [==============================] - 1s 3ms/step - loss: 0.5845 - accuracy: 0.8024\n",
            "313/313 [==============================] - 1s 2ms/step - loss: 0.5909 - accuracy: 0.7930\n",
            "test_loss: 0.5908721089363098\n",
            "test_acc: 0.7929999828338623\n",
            "\n",
            "Entrenamiento de la red neuronal para el modelo 2\n",
            "\n",
            "Epoch 1/5\n",
            "469/469 [==============================] - 2s 2ms/step - loss: 0.8058 - accuracy: 0.7387\n",
            "Epoch 2/5\n",
            "469/469 [==============================] - 1s 2ms/step - loss: 0.5177 - accuracy: 0.8251\n",
            "Epoch 3/5\n",
            "469/469 [==============================] - 1s 2ms/step - loss: 0.4699 - accuracy: 0.8382\n",
            "Epoch 4/5\n",
            "469/469 [==============================] - 1s 2ms/step - loss: 0.4480 - accuracy: 0.8450\n",
            "Epoch 5/5\n",
            "469/469 [==============================] - 1s 2ms/step - loss: 0.4337 - accuracy: 0.8496\n",
            "313/313 [==============================] - 1s 2ms/step - loss: 0.4612 - accuracy: 0.8417\n",
            "test_loss: 0.4612319767475128\n",
            "test_acc: 0.84170001745224\n",
            "\n",
            "Entrenamiento de la red neuronal para el modelo 3\n",
            "\n",
            "Epoch 1/5\n",
            "469/469 [==============================] - 2s 3ms/step - loss: 2.1717 - accuracy: 0.2571\n",
            "Epoch 2/5\n",
            "469/469 [==============================] - 1s 2ms/step - loss: 1.8389 - accuracy: 0.4381\n",
            "Epoch 3/5\n",
            "469/469 [==============================] - 1s 2ms/step - loss: 1.6153 - accuracy: 0.5816\n",
            "Epoch 4/5\n",
            "469/469 [==============================] - 1s 2ms/step - loss: 1.4402 - accuracy: 0.6362\n",
            "Epoch 5/5\n",
            "469/469 [==============================] - 1s 2ms/step - loss: 1.3053 - accuracy: 0.6533\n",
            "313/313 [==============================] - 1s 1ms/step - loss: 1.2535 - accuracy: 0.6546\n",
            "test_loss: 1.2535154819488525\n",
            "test_acc: 0.6546000242233276\n",
            "\n",
            "Entrenamiento de la red neuronal para el modelo 4\n",
            "\n",
            "Epoch 1/5\n",
            "469/469 [==============================] - 2s 3ms/step - loss: 1.4087 - accuracy: 0.6246\n",
            "Epoch 2/5\n",
            "469/469 [==============================] - 2s 4ms/step - loss: 0.8449 - accuracy: 0.7789\n",
            "Epoch 3/5\n",
            "469/469 [==============================] - 1s 2ms/step - loss: 0.6380 - accuracy: 0.8156\n",
            "Epoch 4/5\n",
            "469/469 [==============================] - 1s 2ms/step - loss: 0.5459 - accuracy: 0.8273\n",
            "Epoch 5/5\n",
            "469/469 [==============================] - 1s 2ms/step - loss: 0.4976 - accuracy: 0.8349\n",
            "313/313 [==============================] - 1s 2ms/step - loss: 0.5129 - accuracy: 0.8258\n",
            "test_loss: 0.5128517746925354\n",
            "test_acc: 0.8258000016212463\n",
            "\n",
            "Entrenamiento de la red neuronal para el modelo 5\n",
            "\n",
            "Epoch 1/5\n",
            "469/469 [==============================] - 4s 7ms/step - loss: 1.0179 - accuracy: 0.6921\n",
            "Epoch 2/5\n",
            "469/469 [==============================] - 4s 8ms/step - loss: 0.6604 - accuracy: 0.7903\n",
            "Epoch 3/5\n",
            "469/469 [==============================] - 4s 8ms/step - loss: 0.5818 - accuracy: 0.8120\n",
            "Epoch 4/5\n",
            "469/469 [==============================] - 3s 7ms/step - loss: 0.5404 - accuracy: 0.8234\n",
            "Epoch 5/5\n",
            "469/469 [==============================] - 3s 7ms/step - loss: 0.5132 - accuracy: 0.8317\n",
            "313/313 [==============================] - 1s 3ms/step - loss: 0.5283 - accuracy: 0.8230\n",
            "test_loss: 0.5282677412033081\n",
            "test_acc: 0.8230000138282776\n",
            "\n",
            "Entrenamiento de la red neuronal para el modelo 6\n",
            "\n",
            "Epoch 1/5\n",
            "469/469 [==============================] - 5s 9ms/step - loss: 0.5643 - accuracy: 0.7997\n",
            "Epoch 2/5\n",
            "469/469 [==============================] - 4s 9ms/step - loss: 0.3890 - accuracy: 0.8577\n",
            "Epoch 3/5\n",
            "469/469 [==============================] - 5s 10ms/step - loss: 0.3405 - accuracy: 0.8748\n",
            "Epoch 4/5\n",
            "469/469 [==============================] - 5s 10ms/step - loss: 0.3138 - accuracy: 0.8834\n",
            "Epoch 5/5\n",
            "469/469 [==============================] - 4s 9ms/step - loss: 0.2946 - accuracy: 0.8911\n",
            "313/313 [==============================] - 1s 4ms/step - loss: 0.3463 - accuracy: 0.8726\n",
            "test_loss: 0.3462654650211334\n",
            "test_acc: 0.8726000189781189\n",
            "\n",
            "Entrenamiento de la red neuronal para el modelo 7\n",
            "\n",
            "Epoch 1/5\n",
            "469/469 [==============================] - 5s 9ms/step - loss: 1.7062 - accuracy: 0.5752\n",
            "Epoch 2/5\n",
            "469/469 [==============================] - 3s 7ms/step - loss: 1.1279 - accuracy: 0.7086\n",
            "Epoch 3/5\n",
            "469/469 [==============================] - 3s 7ms/step - loss: 0.9234 - accuracy: 0.7321\n",
            "Epoch 4/5\n",
            "469/469 [==============================] - 5s 10ms/step - loss: 0.8218 - accuracy: 0.7441\n",
            "Epoch 5/5\n",
            "469/469 [==============================] - 3s 7ms/step - loss: 0.7602 - accuracy: 0.7537\n",
            "313/313 [==============================] - 1s 2ms/step - loss: 0.7493 - accuracy: 0.7524\n",
            "test_loss: 0.749308168888092\n",
            "test_acc: 0.7523999810218811\n",
            "\n",
            "Entrenamiento de la red neuronal para el modelo 8\n",
            "\n",
            "Epoch 1/5\n",
            "469/469 [==============================] - 5s 10ms/step - loss: 0.6162 - accuracy: 0.7830\n",
            "Epoch 2/5\n",
            "469/469 [==============================] - 5s 11ms/step - loss: 0.4492 - accuracy: 0.8377\n",
            "Epoch 3/5\n",
            "469/469 [==============================] - 4s 9ms/step - loss: 0.4116 - accuracy: 0.8515\n",
            "Epoch 4/5\n",
            "469/469 [==============================] - 5s 10ms/step - loss: 0.3864 - accuracy: 0.8597\n",
            "Epoch 5/5\n",
            "469/469 [==============================] - 5s 10ms/step - loss: 0.3659 - accuracy: 0.8668\n",
            "313/313 [==============================] - 1s 3ms/step - loss: 0.4033 - accuracy: 0.8536\n",
            "test_loss: 0.40334779024124146\n",
            "test_acc: 0.853600025177002\n"
          ]
        }
      ]
    },
    {
      "cell_type": "markdown",
      "source": [
        "**Interpretación de los casos 2 y 7 al incrementar las épocas de entrenamiento**\n",
        "\n",
        "..."
      ],
      "metadata": {
        "id": "4M_6wIddZ2I6"
      }
    },
    {
      "cell_type": "code",
      "source": [
        "for i in [2, 7]:\n",
        "  print(f'\\nResultados para la red neuronal {i} con 25 épocas de entrenamiento\\n')\n",
        "  cadena[i-1].fit(train_images, train_labels, epochs=25, batch_size=128)"
      ],
      "metadata": {
        "id": "yKrcr4bXZ2T-",
        "colab": {
          "base_uri": "https://localhost:8080/"
        },
        "outputId": "51192a18-c923-45c4-8ad5-ea8a130b7641"
      },
      "execution_count": 109,
      "outputs": [
        {
          "output_type": "stream",
          "name": "stdout",
          "text": [
            "\n",
            "Resultados para la red neuronal 2 con 25 épocas de entrenamiento\n",
            "\n",
            "Epoch 1/25\n",
            "469/469 [==============================] - 1s 3ms/step - loss: 0.4236 - accuracy: 0.8527\n",
            "Epoch 2/25\n",
            "469/469 [==============================] - 1s 2ms/step - loss: 0.4169 - accuracy: 0.8550\n",
            "Epoch 3/25\n",
            "469/469 [==============================] - 1s 2ms/step - loss: 0.4103 - accuracy: 0.8572\n",
            "Epoch 4/25\n",
            "469/469 [==============================] - 1s 2ms/step - loss: 0.4051 - accuracy: 0.8582\n",
            "Epoch 5/25\n",
            "469/469 [==============================] - 1s 2ms/step - loss: 0.4022 - accuracy: 0.8593\n",
            "Epoch 6/25\n",
            "469/469 [==============================] - 1s 2ms/step - loss: 0.3978 - accuracy: 0.8619\n",
            "Epoch 7/25\n",
            "469/469 [==============================] - 1s 2ms/step - loss: 0.3952 - accuracy: 0.8616\n",
            "Epoch 8/25\n",
            "469/469 [==============================] - 1s 2ms/step - loss: 0.3932 - accuracy: 0.8629\n",
            "Epoch 9/25\n",
            "469/469 [==============================] - 1s 2ms/step - loss: 0.3895 - accuracy: 0.8636\n",
            "Epoch 10/25\n",
            "469/469 [==============================] - 1s 2ms/step - loss: 0.3867 - accuracy: 0.8654\n",
            "Epoch 11/25\n",
            "469/469 [==============================] - 1s 3ms/step - loss: 0.3844 - accuracy: 0.8650\n",
            "Epoch 12/25\n",
            "469/469 [==============================] - 2s 3ms/step - loss: 0.3822 - accuracy: 0.8672\n",
            "Epoch 13/25\n",
            "469/469 [==============================] - 1s 3ms/step - loss: 0.3814 - accuracy: 0.8662\n",
            "Epoch 14/25\n",
            "469/469 [==============================] - 1s 2ms/step - loss: 0.3798 - accuracy: 0.8671\n",
            "Epoch 15/25\n",
            "469/469 [==============================] - 1s 2ms/step - loss: 0.3765 - accuracy: 0.8690\n",
            "Epoch 16/25\n",
            "469/469 [==============================] - 1s 2ms/step - loss: 0.3759 - accuracy: 0.8680\n",
            "Epoch 17/25\n",
            "469/469 [==============================] - 1s 2ms/step - loss: 0.3743 - accuracy: 0.8691\n",
            "Epoch 18/25\n",
            "469/469 [==============================] - 1s 2ms/step - loss: 0.3727 - accuracy: 0.8696\n",
            "Epoch 19/25\n",
            "469/469 [==============================] - 1s 2ms/step - loss: 0.3721 - accuracy: 0.8698\n",
            "Epoch 20/25\n",
            "469/469 [==============================] - 1s 2ms/step - loss: 0.3713 - accuracy: 0.8695\n",
            "Epoch 21/25\n",
            "469/469 [==============================] - 1s 2ms/step - loss: 0.3697 - accuracy: 0.8707\n",
            "Epoch 22/25\n",
            "469/469 [==============================] - 1s 2ms/step - loss: 0.3674 - accuracy: 0.8712\n",
            "Epoch 23/25\n",
            "469/469 [==============================] - 2s 3ms/step - loss: 0.3671 - accuracy: 0.8716\n",
            "Epoch 24/25\n",
            "469/469 [==============================] - 2s 3ms/step - loss: 0.3663 - accuracy: 0.8714\n",
            "Epoch 25/25\n",
            "469/469 [==============================] - 1s 2ms/step - loss: 0.3654 - accuracy: 0.8707\n",
            "\n",
            "Resultados para la red neuronal 7 con 25 épocas de entrenamiento\n",
            "\n",
            "Epoch 1/25\n",
            "469/469 [==============================] - 3s 7ms/step - loss: 0.7184 - accuracy: 0.7609\n",
            "Epoch 2/25\n",
            "469/469 [==============================] - 3s 7ms/step - loss: 0.6875 - accuracy: 0.7683\n",
            "Epoch 3/25\n",
            "469/469 [==============================] - 4s 9ms/step - loss: 0.6632 - accuracy: 0.7739\n",
            "Epoch 4/25\n",
            "469/469 [==============================] - 3s 7ms/step - loss: 0.6434 - accuracy: 0.7799\n",
            "Epoch 5/25\n",
            "469/469 [==============================] - 3s 7ms/step - loss: 0.6265 - accuracy: 0.7849\n",
            "Epoch 6/25\n",
            "469/469 [==============================] - 4s 8ms/step - loss: 0.6122 - accuracy: 0.7889\n",
            "Epoch 7/25\n",
            "469/469 [==============================] - 4s 8ms/step - loss: 0.5992 - accuracy: 0.7931\n",
            "Epoch 8/25\n",
            "469/469 [==============================] - 3s 7ms/step - loss: 0.5883 - accuracy: 0.7977\n",
            "Epoch 9/25\n",
            "469/469 [==============================] - 3s 7ms/step - loss: 0.5782 - accuracy: 0.7996\n",
            "Epoch 10/25\n",
            "469/469 [==============================] - 4s 9ms/step - loss: 0.5691 - accuracy: 0.8033\n",
            "Epoch 11/25\n",
            "469/469 [==============================] - 3s 7ms/step - loss: 0.5610 - accuracy: 0.8061\n",
            "Epoch 12/25\n",
            "469/469 [==============================] - 3s 7ms/step - loss: 0.5535 - accuracy: 0.8086\n",
            "Epoch 13/25\n",
            "469/469 [==============================] - 3s 7ms/step - loss: 0.5469 - accuracy: 0.8107\n",
            "Epoch 14/25\n",
            "469/469 [==============================] - 4s 9ms/step - loss: 0.5406 - accuracy: 0.8123\n",
            "Epoch 15/25\n",
            "469/469 [==============================] - 4s 8ms/step - loss: 0.5349 - accuracy: 0.8155\n",
            "Epoch 16/25\n",
            "469/469 [==============================] - 3s 7ms/step - loss: 0.5296 - accuracy: 0.8160\n",
            "Epoch 17/25\n",
            "469/469 [==============================] - 4s 9ms/step - loss: 0.5246 - accuracy: 0.8184\n",
            "Epoch 18/25\n",
            "469/469 [==============================] - 4s 8ms/step - loss: 0.5201 - accuracy: 0.8194\n",
            "Epoch 19/25\n",
            "469/469 [==============================] - 3s 7ms/step - loss: 0.5156 - accuracy: 0.8217\n",
            "Epoch 20/25\n",
            "469/469 [==============================] - 3s 7ms/step - loss: 0.5118 - accuracy: 0.8224\n",
            "Epoch 21/25\n",
            "469/469 [==============================] - 4s 10ms/step - loss: 0.5081 - accuracy: 0.8234\n",
            "Epoch 22/25\n",
            "469/469 [==============================] - 3s 7ms/step - loss: 0.5044 - accuracy: 0.8248\n",
            "Epoch 23/25\n",
            "469/469 [==============================] - 3s 7ms/step - loss: 0.5013 - accuracy: 0.8253\n",
            "Epoch 24/25\n",
            "469/469 [==============================] - 4s 8ms/step - loss: 0.4979 - accuracy: 0.8275\n",
            "Epoch 25/25\n",
            "469/469 [==============================] - 4s 8ms/step - loss: 0.4951 - accuracy: 0.8275\n"
          ]
        }
      ]
    },
    {
      "cell_type": "markdown",
      "source": [
        "**Predicciones sobre la sexta imagen**\n",
        "\n",
        "..."
      ],
      "metadata": {
        "id": "aF5fScrPb_pF"
      }
    },
    {
      "cell_type": "code",
      "source": [
        "(train_images, train_labels), (test_images, test_labels) = tf.keras.datasets.fashion_mnist.load_data()\n",
        "import matplotlib.pyplot as plt\n",
        "digit = test_images[5]\n",
        "plt.imshow(digit, cmap=plt.cm.binary)\n",
        "plt.show()"
      ],
      "metadata": {
        "id": "0GQeXAntb_1H",
        "colab": {
          "base_uri": "https://localhost:8080/",
          "height": 430
        },
        "outputId": "60e49578-6c8f-4802-a6ff-97003b571f88"
      },
      "execution_count": 110,
      "outputs": [
        {
          "output_type": "display_data",
          "data": {
            "text/plain": [
              "<Figure size 640x480 with 1 Axes>"
            ],
            "image/png": "[encoded data removed]"
          },
          "metadata": {}
        }
      ]
    },
    {
      "cell_type": "code",
      "source": [
        "train_images = train_images.reshape((60000, 28 * 28))\n",
        "test_images = test_images.reshape((10000, 28 * 28))\n",
        "\n",
        "train_images = train_images.astype('float32') / 255\n",
        "test_images = test_images.astype('float32') / 255\n",
        "\n",
        "print(f\"Etiqueta original que le corresponde a la imagen 6:\\n{test_labels[5]}\")\n",
        "\n",
        "# Hacemos las predicciones con las imágenes de Test\n",
        "for i in range(8):\n",
        "  predictions = cadena[i].predict(test_images)\n",
        "\n",
        "  print(f\"\\nRed neuronal número {i+1}\\n\")\n",
        "  print(\"\\n=VEMOS LA PREDICCIÓN DEL ELEMENTO 6 (QUE DEBERÍA SER UN 1)============\\n\")\n",
        "  print(np.argmax(predictions[5]))\n",
        "  print(\"=======================================================================\")\n",
        "  print(\"\\n=LA SUMA DE TODAS LAS PREDICCIONES PARA EL ELEMENTO 6 DEBERÍA SER 1===\\n\")\n",
        "  print(np.sum(predictions[5]))"
      ],
      "metadata": {
        "colab": {
          "base_uri": "https://localhost:8080/"
        },
        "id": "31RTTsfoWDGZ",
        "outputId": "1eff6b66-94d5-4cda-e303-14f4b63d9afe"
      },
      "execution_count": 111,
      "outputs": [
        {
          "output_type": "stream",
          "name": "stdout",
          "text": [
            "Etiqueta original que le corresponde a la imagen 6:\n",
            "1\n",
            "313/313 [==============================] - 0s 1ms/step\n",
            "\n",
            "Red neuronal número 1\n",
            "\n",
            "\n",
            "=VEMOS LA PREDICCIÓN DEL ELEMENTO 6 (QUE DEBERÍA SER UN 6)============\n",
            "\n",
            "1\n",
            "=======================================================================\n",
            "\n",
            "=LA SUMA DE TODAS LAS PREDICCIONES PARA EL ELEMENTO 6 DEBERÍA SER 1===\n",
            "\n",
            "0.99999994\n",
            "313/313 [==============================] - 0s 1ms/step\n",
            "\n",
            "Red neuronal número 2\n",
            "\n",
            "\n",
            "=VEMOS LA PREDICCIÓN DEL ELEMENTO 6 (QUE DEBERÍA SER UN 6)============\n",
            "\n",
            "1\n",
            "=======================================================================\n",
            "\n",
            "=LA SUMA DE TODAS LAS PREDICCIONES PARA EL ELEMENTO 6 DEBERÍA SER 1===\n",
            "\n",
            "0.99999994\n",
            "313/313 [==============================] - 1s 2ms/step\n",
            "\n",
            "Red neuronal número 3\n",
            "\n",
            "\n",
            "=VEMOS LA PREDICCIÓN DEL ELEMENTO 6 (QUE DEBERÍA SER UN 6)============\n",
            "\n",
            "1\n",
            "=======================================================================\n",
            "\n",
            "=LA SUMA DE TODAS LAS PREDICCIONES PARA EL ELEMENTO 6 DEBERÍA SER 1===\n",
            "\n",
            "0.99999994\n",
            "313/313 [==============================] - 1s 2ms/step\n",
            "\n",
            "Red neuronal número 4\n",
            "\n",
            "\n",
            "=VEMOS LA PREDICCIÓN DEL ELEMENTO 6 (QUE DEBERÍA SER UN 6)============\n",
            "\n",
            "1\n",
            "=======================================================================\n",
            "\n",
            "=LA SUMA DE TODAS LAS PREDICCIONES PARA EL ELEMENTO 6 DEBERÍA SER 1===\n",
            "\n",
            "1.0000001\n",
            "313/313 [==============================] - 1s 2ms/step\n",
            "\n",
            "Red neuronal número 5\n",
            "\n",
            "\n",
            "=VEMOS LA PREDICCIÓN DEL ELEMENTO 6 (QUE DEBERÍA SER UN 6)============\n",
            "\n",
            "1\n",
            "=======================================================================\n",
            "\n",
            "=LA SUMA DE TODAS LAS PREDICCIONES PARA EL ELEMENTO 6 DEBERÍA SER 1===\n",
            "\n",
            "0.99999994\n",
            "313/313 [==============================] - 1s 2ms/step\n",
            "\n",
            "Red neuronal número 6\n",
            "\n",
            "\n",
            "=VEMOS LA PREDICCIÓN DEL ELEMENTO 6 (QUE DEBERÍA SER UN 6)============\n",
            "\n",
            "1\n",
            "=======================================================================\n",
            "\n",
            "=LA SUMA DE TODAS LAS PREDICCIONES PARA EL ELEMENTO 6 DEBERÍA SER 1===\n",
            "\n",
            "0.9999999\n",
            "313/313 [==============================] - 1s 2ms/step\n",
            "\n",
            "Red neuronal número 7\n",
            "\n",
            "\n",
            "=VEMOS LA PREDICCIÓN DEL ELEMENTO 6 (QUE DEBERÍA SER UN 6)============\n",
            "\n",
            "1\n",
            "=======================================================================\n",
            "\n",
            "=LA SUMA DE TODAS LAS PREDICCIONES PARA EL ELEMENTO 6 DEBERÍA SER 1===\n",
            "\n",
            "1.0000001\n",
            "313/313 [==============================] - 1s 2ms/step\n",
            "\n",
            "Red neuronal número 8\n",
            "\n",
            "\n",
            "=VEMOS LA PREDICCIÓN DEL ELEMENTO 6 (QUE DEBERÍA SER UN 6)============\n",
            "\n",
            "1\n",
            "=======================================================================\n",
            "\n",
            "=LA SUMA DE TODAS LAS PREDICCIONES PARA EL ELEMENTO 6 DEBERÍA SER 1===\n",
            "\n",
            "0.9999999\n"
          ]
        }
      ]
    }
  ]
}