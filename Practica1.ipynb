{
  "nbformat": 4,
  "nbformat_minor": 0,
  "metadata": {
    "colab": {
      "provenance": [],
      "authorship_tag": "ABX9TyPqHR2WbJUuvJJlukUG2Pcr",
      "include_colab_link": true
    },
    "kernelspec": {
      "name": "python3",
      "display_name": "Python 3"
    },
    "language_info": {
      "name": "python"
    }
  },
  "cells": [
    {
      "cell_type": "markdown",
      "metadata": {
        "id": "view-in-github",
        "colab_type": "text"
      },
      "source": [
        "<a href=\"https://colab.research.google.com/github/luciacasass/APRENDIZAJE_AUTOMATICO_23_24/blob/main/Practica1.ipynb\" target=\"_parent\"><img src=\"https://colab.research.google.com/assets/colab-badge.svg\" alt=\"Open In Colab\"/></a>"
      ]
    },
    {
      "cell_type": "markdown",
      "source": [
        "# Práctica 1. Diseño, Entrenamiento y Test de un Sistema de Redes de Neuronas Artificiales\n",
        "## Aprendizaje Automático\n",
        "Lucía Casas Sierra, Alba López Devesa, Paula Redondo Sastre"
      ],
      "metadata": {
        "id": "zI3nxE-QG6Iz"
      }
    },
    {
      "cell_type": "markdown",
      "source": [
        "**Introducción...**"
      ],
      "metadata": {
        "id": "buxVGAB_ReJc"
      }
    },
    {
      "cell_type": "code",
      "source": [
        "# 1._ IMPORTAMOS KERAS\n",
        "%tensorflow_version 2.x   # librería interna que ejecuta de forma eficiente los tensores; es el motor del sistema para hacer cálculo de multiplicaciones de matrices etc\n",
        "import numpy as np\n",
        "import tensorflow as tf\n",
        "from tensorflow import keras\n",
        "from tensorflow.keras import layers\n",
        "from keras import utils\n",
        "from keras.datasets import mnist  # 70k imágenes\n",
        "\n",
        "print(\"GPU Available:\", tf.config.list_physical_devices('GPU'))\n",
        "print(tf.__version__)"
      ],
      "metadata": {
        "colab": {
          "base_uri": "https://localhost:8080/"
        },
        "id": "rmHOclbiHcg2",
        "outputId": "ec7b4447-2f3c-4b06-d3a2-437d3c61bb5e"
      },
      "execution_count": 1,
      "outputs": [
        {
          "output_type": "stream",
          "name": "stdout",
          "text": [
            "Colab only includes TensorFlow 2.x; %tensorflow_version has no effect.\n",
            "GPU Available: []\n",
            "2.13.0\n"
          ]
        }
      ]
    },
    {
      "cell_type": "markdown",
      "source": [
        "Cargamos el conjunto de datos Fashion-MNIST en Keras"
      ],
      "metadata": {
        "id": "eZIxYczcIBVv"
      }
    },
    {
      "cell_type": "code",
      "source": [
        "# 2.- CARGAMOS EL CONJUNTO DE DATOS MINIST EN KERAS\n",
        "\n",
        "(train_images, train_labels), (test_images, test_labels) = tf.keras.datasets.fashion_mnist.load_data()"
      ],
      "metadata": {
        "id": "M5Eg9tJRIBgG",
        "colab": {
          "base_uri": "https://localhost:8080/"
        },
        "outputId": "e9838b80-9ec0-4a0c-f724-7e2dc4a53947"
      },
      "execution_count": 2,
      "outputs": [
        {
          "output_type": "stream",
          "name": "stdout",
          "text": [
            "Downloading data from https://storage.googleapis.com/tensorflow/tf-keras-datasets/train-labels-idx1-ubyte.gz\n",
            "29515/29515 [==============================] - 0s 0us/step\n",
            "Downloading data from https://storage.googleapis.com/tensorflow/tf-keras-datasets/train-images-idx3-ubyte.gz\n",
            "26421880/26421880 [==============================] - 0s 0us/step\n",
            "Downloading data from https://storage.googleapis.com/tensorflow/tf-keras-datasets/t10k-labels-idx1-ubyte.gz\n",
            "5148/5148 [==============================] - 0s 0us/step\n",
            "Downloading data from https://storage.googleapis.com/tensorflow/tf-keras-datasets/t10k-images-idx3-ubyte.gz\n",
            "4422102/4422102 [==============================] - 0s 0us/step\n"
          ]
        }
      ]
    },
    {
      "cell_type": "markdown",
      "source": [
        "Comprobación de la forma de los datos..."
      ],
      "metadata": {
        "id": "3iiU0lI7RjNU"
      }
    },
    {
      "cell_type": "code",
      "source": [
        "print(train_images.shape)"
      ],
      "metadata": {
        "colab": {
          "base_uri": "https://localhost:8080/"
        },
        "id": "R5x2_Y4sIcfG",
        "outputId": "f0c9b646-4c3a-4621-9ff3-18597f169a29"
      },
      "execution_count": 3,
      "outputs": [
        {
          "output_type": "stream",
          "name": "stdout",
          "text": [
            "(60000, 28, 28)\n"
          ]
        }
      ]
    },
    {
      "cell_type": "markdown",
      "source": [
        "**Construcción de la RNA**\n",
        "\n",
        "..."
      ],
      "metadata": {
        "id": "3mktVEU4STj3"
      }
    },
    {
      "cell_type": "code",
      "source": [
        "from keras import models\n",
        "from keras import layers\n",
        "\n",
        "# Creación de la lista con las cadenas model1, model2, ..., model8 que servirán\n",
        "# para nombrar cada uno de los distintos modelos de estudio\n",
        "cadena = ['model'] * 8\n",
        "for i in range(8):\n",
        "  cadena[i] = cadena[i] + str(i+1)\n",
        "\n",
        "cont = 0\n",
        "\n",
        "# Construcción\n",
        "for n in [10, 512]:\n",
        "  for act in ['relu', 'sigmoid']:\n",
        "    for opt in ['sgd', 'rmsprop']:\n",
        "      cadena[cont] = vars()\n",
        "      cadena[cont] = models.Sequential()\n",
        "\n",
        "      cadena[cont].add(layers.Dense(n, activation=act, input_shape=(28*28,)))\n",
        "      cadena[cont].add(layers.Dense(10, activation = 'softmax'))\n",
        "\n",
        "      cadena[cont].compile(optimizer=opt,\n",
        "                loss='categorical_crossentropy',\n",
        "                metrics=['accuracy'])\n",
        "      cont += 1"
      ],
      "metadata": {
        "id": "kLMzyL2fSfio"
      },
      "execution_count": 4,
      "outputs": []
    },
    {
      "cell_type": "markdown",
      "source": [
        "**Resumen de cada uno de los diferentes modelos**\n",
        "\n",
        "..."
      ],
      "metadata": {
        "id": "tloubzgjZdqV"
      }
    },
    {
      "cell_type": "code",
      "source": [
        "for i in range(8):\n",
        "  print(f'\\nResumen del modelo para los siguientes datos:\\n{n} capas, función de activación {act}\\n')\n",
        "  cadena[i].summary()"
      ],
      "metadata": {
        "colab": {
          "base_uri": "https://localhost:8080/"
        },
        "id": "wutIkHkyZeBy",
        "outputId": "e346c516-ba89-4803-b1cc-1bb400c53c92"
      },
      "execution_count": 5,
      "outputs": [
        {
          "output_type": "stream",
          "name": "stdout",
          "text": [
            "\n",
            "Resumen del modelo para los siguientes datos:\n",
            "512 capas, función de activación sigmoid\n",
            "\n",
            "Model: \"sequential\"\n",
            "_________________________________________________________________\n",
            " Layer (type)                Output Shape              Param #   \n",
            "=================================================================\n",
            " dense (Dense)               (None, 10)                7850      \n",
            "                                                                 \n",
            " dense_1 (Dense)             (None, 10)                110       \n",
            "                                                                 \n",
            "=================================================================\n",
            "Total params: 7960 (31.09 KB)\n",
            "Trainable params: 7960 (31.09 KB)\n",
            "Non-trainable params: 0 (0.00 Byte)\n",
            "_________________________________________________________________\n",
            "\n",
            "Resumen del modelo para los siguientes datos:\n",
            "512 capas, función de activación sigmoid\n",
            "\n",
            "Model: \"sequential_1\"\n",
            "_________________________________________________________________\n",
            " Layer (type)                Output Shape              Param #   \n",
            "=================================================================\n",
            " dense_2 (Dense)             (None, 10)                7850      \n",
            "                                                                 \n",
            " dense_3 (Dense)             (None, 10)                110       \n",
            "                                                                 \n",
            "=================================================================\n",
            "Total params: 7960 (31.09 KB)\n",
            "Trainable params: 7960 (31.09 KB)\n",
            "Non-trainable params: 0 (0.00 Byte)\n",
            "_________________________________________________________________\n",
            "\n",
            "Resumen del modelo para los siguientes datos:\n",
            "512 capas, función de activación sigmoid\n",
            "\n",
            "Model: \"sequential_2\"\n",
            "_________________________________________________________________\n",
            " Layer (type)                Output Shape              Param #   \n",
            "=================================================================\n",
            " dense_4 (Dense)             (None, 10)                7850      \n",
            "                                                                 \n",
            " dense_5 (Dense)             (None, 10)                110       \n",
            "                                                                 \n",
            "=================================================================\n",
            "Total params: 7960 (31.09 KB)\n",
            "Trainable params: 7960 (31.09 KB)\n",
            "Non-trainable params: 0 (0.00 Byte)\n",
            "_________________________________________________________________\n",
            "\n",
            "Resumen del modelo para los siguientes datos:\n",
            "512 capas, función de activación sigmoid\n",
            "\n",
            "Model: \"sequential_3\"\n",
            "_________________________________________________________________\n",
            " Layer (type)                Output Shape              Param #   \n",
            "=================================================================\n",
            " dense_6 (Dense)             (None, 10)                7850      \n",
            "                                                                 \n",
            " dense_7 (Dense)             (None, 10)                110       \n",
            "                                                                 \n",
            "=================================================================\n",
            "Total params: 7960 (31.09 KB)\n",
            "Trainable params: 7960 (31.09 KB)\n",
            "Non-trainable params: 0 (0.00 Byte)\n",
            "_________________________________________________________________\n",
            "\n",
            "Resumen del modelo para los siguientes datos:\n",
            "512 capas, función de activación sigmoid\n",
            "\n",
            "Model: \"sequential_4\"\n",
            "_________________________________________________________________\n",
            " Layer (type)                Output Shape              Param #   \n",
            "=================================================================\n",
            " dense_8 (Dense)             (None, 512)               401920    \n",
            "                                                                 \n",
            " dense_9 (Dense)             (None, 10)                5130      \n",
            "                                                                 \n",
            "=================================================================\n",
            "Total params: 407050 (1.55 MB)\n",
            "Trainable params: 407050 (1.55 MB)\n",
            "Non-trainable params: 0 (0.00 Byte)\n",
            "_________________________________________________________________\n",
            "\n",
            "Resumen del modelo para los siguientes datos:\n",
            "512 capas, función de activación sigmoid\n",
            "\n",
            "Model: \"sequential_5\"\n",
            "_________________________________________________________________\n",
            " Layer (type)                Output Shape              Param #   \n",
            "=================================================================\n",
            " dense_10 (Dense)            (None, 512)               401920    \n",
            "                                                                 \n",
            " dense_11 (Dense)            (None, 10)                5130      \n",
            "                                                                 \n",
            "=================================================================\n",
            "Total params: 407050 (1.55 MB)\n",
            "Trainable params: 407050 (1.55 MB)\n",
            "Non-trainable params: 0 (0.00 Byte)\n",
            "_________________________________________________________________\n",
            "\n",
            "Resumen del modelo para los siguientes datos:\n",
            "512 capas, función de activación sigmoid\n",
            "\n",
            "Model: \"sequential_6\"\n",
            "_________________________________________________________________\n",
            " Layer (type)                Output Shape              Param #   \n",
            "=================================================================\n",
            " dense_12 (Dense)            (None, 512)               401920    \n",
            "                                                                 \n",
            " dense_13 (Dense)            (None, 10)                5130      \n",
            "                                                                 \n",
            "=================================================================\n",
            "Total params: 407050 (1.55 MB)\n",
            "Trainable params: 407050 (1.55 MB)\n",
            "Non-trainable params: 0 (0.00 Byte)\n",
            "_________________________________________________________________\n",
            "\n",
            "Resumen del modelo para los siguientes datos:\n",
            "512 capas, función de activación sigmoid\n",
            "\n",
            "Model: \"sequential_7\"\n",
            "_________________________________________________________________\n",
            " Layer (type)                Output Shape              Param #   \n",
            "=================================================================\n",
            " dense_14 (Dense)            (None, 512)               401920    \n",
            "                                                                 \n",
            " dense_15 (Dense)            (None, 10)                5130      \n",
            "                                                                 \n",
            "=================================================================\n",
            "Total params: 407050 (1.55 MB)\n",
            "Trainable params: 407050 (1.55 MB)\n",
            "Non-trainable params: 0 (0.00 Byte)\n",
            "_________________________________________________________________\n"
          ]
        }
      ]
    },
    {
      "cell_type": "markdown",
      "source": [
        "**Preparación de los datos previa**\n",
        "\n",
        "..."
      ],
      "metadata": {
        "id": "VlEkWKcIavM8"
      }
    },
    {
      "cell_type": "code",
      "source": [
        "train_images = train_images.reshape((60000, 28 * 28))   # la neurona no acepta de entrada una matriz, sino un vector\n",
        "print(train_images)\n",
        "print(len(train_images))\n",
        "print(train_images.shape)\n",
        "np.set_printoptions(precision=2, suppress=True, linewidth=145)\n",
        "print(np.matrix(train_images[3000]))"
      ],
      "metadata": {
        "id": "tyoT-RNIa8ju",
        "colab": {
          "base_uri": "https://localhost:8080/"
        },
        "outputId": "e70129b2-482f-4bfc-e85b-13193c32ed64"
      },
      "execution_count": 6,
      "outputs": [
        {
          "output_type": "stream",
          "name": "stdout",
          "text": [
            "[[0 0 0 ... 0 0 0]\n",
            " [0 0 0 ... 0 0 0]\n",
            " [0 0 0 ... 0 0 0]\n",
            " ...\n",
            " [0 0 0 ... 0 0 0]\n",
            " [0 0 0 ... 0 0 0]\n",
            " [0 0 0 ... 0 0 0]]\n",
            "60000\n",
            "(60000, 784)\n",
            "[[  0   0   0   0   0   0   0   0   1   1   0   0 120 131  91 147  30   0   0   1   1   0   0   0   0   0   0   0   0   0   0   0   0   0   1\n",
            "    3   0   0   0   0 251 199 172 195 152   0   0   0   0   3   1   0   0   0   0   0   0   0   0   0   0   0   0   0   0  43 124 193 166 239\n",
            "  255 216 172 228 126  61   0   0   0   0   0   0   0   0   0   0   0   0   0   0   0  96 167 155 159 171 178 211 215 210 196 189 158 164 159\n",
            "  108   0   0   0   0   0   0   0   0   0   0   0   0  83 157 131 117 120 148 148 145 178 159 174 160 123 132 142 172  38   0   0   0   0   0\n",
            "    0   0   0   0   0   0 159 128 118 120 122 112  93 124 161 109 128 128 129 146 138 167 122   0   0   0   0   0   0   0   0   0   0   0 171\n",
            "  135 120 114 118 119 107 125 123 117 124 124 119 145 147 166 148   0   0   0   0   0   0   0   0   0   0   4 171 138 126 120 117 118 102 122\n",
            "  145 111 120 122 120 152 154 155 170   0   0   0   0   0   0   0   0   0   0  31 170 129 138 125 113 106 103 118 137 108 135 130 158 182 138\n",
            "  143 186   0   0   0   0   0   0   0   0   0   0  58 163 114 137 143 119 103 100 109 118 109 129 134 172 181 131 136 190   0   0   0   0   0\n",
            "    0   0   0   0   0  76 160 113 141 148 128 111 101 116 137 111 131 142 167 183 136 120 186  12   0   0   0   0   0   0   0   0   0 100 148\n",
            "  108 147 147 134 120 105 116 131 116 136 137 165 192 137 113 187  30   0   0   0   0   0   0   0   0   0 114 143 108 158 147 130 125 106 114\n",
            "  122 119 129 134 160 196 136 109 182  51   0   0   0   0   0   0   0   0   0 120 140 117 151 148 131 124 109 120 143 120 130 128 159 188 111\n",
            "  108 178  66   0   0   0   0   0   0   0   0   0 125 129 128 112 145 140 122 113 118 134 117 132 128 166 157  91 120 170  74   0   0   0   0\n",
            "    0   0   0   0   0 126 123 138  74 140 143 124 111 112 126 120 130 129 175 120  88 128 164  91   0   0   0   0   0   0   0   0   0 124 123\n",
            "  157  45 145 143 124 113 119 148 122 131 129 183  90  73 137 155  99   0   0   0   0   0   0   0   0   0 118 122 167   0 143 149 122 112 118\n",
            "  137 116 132 126 183  73  50 152 147 101   0   0   0   0   0   0   0   0   0 111 128 164   0 142 151 122 111 117 132 120 136 125 182  90  18\n",
            "  164 145 107   0   0   0   0   0   0   0   0   0 109 132 158   0 146 148 120 108 125 157 120 136 131 176 111   0 164 143 118   0   0   0   0\n",
            "    0   0   0   0   0 111 141 140   0 148 149 120 114 123 137 124 137 131 171 135   0 157 147 125   0   0   0   0   0   0   0   0   0 111 154\n",
            "  111   0 155 148 118 116 124 143 123 131 129 167 155   0 129 157 129   0   0   0   0   0   0   0   0   0 109 155  87   0 157 145 119 117 126\n",
            "  154 126 130 123 161 160   0  97 163 130   0   0   0   0   0   0   0   0   0 124 142  54   0 149 141 119 119 124 136 129 126 120 153 175   0\n",
            "   76 145 137   0   0   0   0   0   0   0   0   0 136 151  47   0 149 137 119 118 126 143 132 130 123 153 172   0  66 148 154   0   0   0   0\n",
            "    0   0   0   0   0 109 174  48   0 154 138 119 117 124 138 130 129 125 159 167   0  58 174 128   0   0   0   0   0   0   0   0   0   0   0\n",
            "    0   0  85 182 147 136 143 158 146 148 153 199  70   0   0   0   0   0   0   0   0   0   0   0   0   0   0   0   0   0   0  26  54  72  83\n",
            "   96  85  80  61  14   0   0   0   0   0   0   0   0   0]]\n"
          ]
        }
      ]
    },
    {
      "cell_type": "code",
      "source": [
        "train_images = train_images.astype('float32') / 255\n",
        "train_images, len(train_images), train_images.shape, train_images[3000]"
      ],
      "metadata": {
        "colab": {
          "base_uri": "https://localhost:8080/"
        },
        "id": "eq_OoLhFSZQt",
        "outputId": "b5d4f6a6-82c2-4166-e48c-d412c0da2cea"
      },
      "execution_count": 7,
      "outputs": [
        {
          "output_type": "execute_result",
          "data": {
            "text/plain": [
              "(array([[0., 0., 0., ..., 0., 0., 0.],\n",
              "        [0., 0., 0., ..., 0., 0., 0.],\n",
              "        [0., 0., 0., ..., 0., 0., 0.],\n",
              "        ...,\n",
              "        [0., 0., 0., ..., 0., 0., 0.],\n",
              "        [0., 0., 0., ..., 0., 0., 0.],\n",
              "        [0., 0., 0., ..., 0., 0., 0.]], dtype=float32),\n",
              " 60000,\n",
              " (60000, 784),\n",
              " array([0.  , 0.  , 0.  , 0.  , 0.  , 0.  , 0.  , 0.  , 0.  , 0.  , 0.  , 0.  , 0.47, 0.51, 0.36, 0.58, 0.12, 0.  , 0.  , 0.  , 0.  , 0.  , 0.  ,\n",
              "        0.  , 0.  , 0.  , 0.  , 0.  , 0.  , 0.  , 0.  , 0.  , 0.  , 0.  , 0.  , 0.01, 0.  , 0.  , 0.  , 0.  , 0.98, 0.78, 0.67, 0.76, 0.6 , 0.  ,\n",
              "        0.  , 0.  , 0.  , 0.01, 0.  , 0.  , 0.  , 0.  , 0.  , 0.  , 0.  , 0.  , 0.  , 0.  , 0.  , 0.  , 0.  , 0.  , 0.  , 0.17, 0.49, 0.76, 0.65,\n",
              "        0.94, 1.  , 0.85, 0.67, 0.89, 0.49, 0.24, 0.  , 0.  , 0.  , 0.  , 0.  , 0.  , 0.  , 0.  , 0.  , 0.  , 0.  , 0.  , 0.  , 0.  , 0.  , 0.38,\n",
              "        0.65, 0.61, 0.62, 0.67, 0.7 , 0.83, 0.84, 0.82, 0.77, 0.74, 0.62, 0.64, 0.62, 0.42, 0.  , 0.  , 0.  , 0.  , 0.  , 0.  , 0.  , 0.  , 0.  ,\n",
              "        0.  , 0.  , 0.  , 0.33, 0.62, 0.51, 0.46, 0.47, 0.58, 0.58, 0.57, 0.7 , 0.62, 0.68, 0.63, 0.48, 0.52, 0.56, 0.67, 0.15, 0.  , 0.  , 0.  ,\n",
              "        0.  , 0.  , 0.  , 0.  , 0.  , 0.  , 0.  , 0.  , 0.62, 0.5 , 0.46, 0.47, 0.48, 0.44, 0.36, 0.49, 0.63, 0.43, 0.5 , 0.5 , 0.51, 0.57, 0.54,\n",
              "        0.65, 0.48, 0.  , 0.  , 0.  , 0.  , 0.  , 0.  , 0.  , 0.  , 0.  , 0.  , 0.  , 0.67, 0.53, 0.47, 0.45, 0.46, 0.47, 0.42, 0.49, 0.48, 0.46,\n",
              "        0.49, 0.49, 0.47, 0.57, 0.58, 0.65, 0.58, 0.  , 0.  , 0.  , 0.  , 0.  , 0.  , 0.  , 0.  , 0.  , 0.  , 0.02, 0.67, 0.54, 0.49, 0.47, 0.46,\n",
              "        0.46, 0.4 , 0.48, 0.57, 0.44, 0.47, 0.48, 0.47, 0.6 , 0.6 , 0.61, 0.67, 0.  , 0.  , 0.  , 0.  , 0.  , 0.  , 0.  , 0.  , 0.  , 0.  , 0.12,\n",
              "        0.67, 0.51, 0.54, 0.49, 0.44, 0.42, 0.4 , 0.46, 0.54, 0.42, 0.53, 0.51, 0.62, 0.71, 0.54, 0.56, 0.73, 0.  , 0.  , 0.  , 0.  , 0.  , 0.  ,\n",
              "        0.  , 0.  , 0.  , 0.  , 0.23, 0.64, 0.45, 0.54, 0.56, 0.47, 0.4 , 0.39, 0.43, 0.46, 0.43, 0.51, 0.53, 0.67, 0.71, 0.51, 0.53, 0.75, 0.  ,\n",
              "        0.  , 0.  , 0.  , 0.  , 0.  , 0.  , 0.  , 0.  , 0.  , 0.3 , 0.63, 0.44, 0.55, 0.58, 0.5 , 0.44, 0.4 , 0.45, 0.54, 0.44, 0.51, 0.56, 0.65,\n",
              "        0.72, 0.53, 0.47, 0.73, 0.05, 0.  , 0.  , 0.  , 0.  , 0.  , 0.  , 0.  , 0.  , 0.  , 0.39, 0.58, 0.42, 0.58, 0.58, 0.53, 0.47, 0.41, 0.45,\n",
              "        0.51, 0.45, 0.53, 0.54, 0.65, 0.75, 0.54, 0.44, 0.73, 0.12, 0.  , 0.  , 0.  , 0.  , 0.  , 0.  , 0.  , 0.  , 0.  , 0.45, 0.56, 0.42, 0.62,\n",
              "        0.58, 0.51, 0.49, 0.42, 0.45, 0.48, 0.47, 0.51, 0.53, 0.63, 0.77, 0.53, 0.43, 0.71, 0.2 , 0.  , 0.  , 0.  , 0.  , 0.  , 0.  , 0.  , 0.  ,\n",
              "        0.  , 0.47, 0.55, 0.46, 0.59, 0.58, 0.51, 0.49, 0.43, 0.47, 0.56, 0.47, 0.51, 0.5 , 0.62, 0.74, 0.44, 0.42, 0.7 , 0.26, 0.  , 0.  , 0.  ,\n",
              "        0.  , 0.  , 0.  , 0.  , 0.  , 0.  , 0.49, 0.51, 0.5 , 0.44, 0.57, 0.55, 0.48, 0.44, 0.46, 0.53, 0.46, 0.52, 0.5 , 0.65, 0.62, 0.36, 0.47,\n",
              "        0.67, 0.29, 0.  , 0.  , 0.  , 0.  , 0.  , 0.  , 0.  , 0.  , 0.  , 0.49, 0.48, 0.54, 0.29, 0.55, 0.56, 0.49, 0.44, 0.44, 0.49, 0.47, 0.51,\n",
              "        0.51, 0.69, 0.47, 0.35, 0.5 , 0.64, 0.36, 0.  , 0.  , 0.  , 0.  , 0.  , 0.  , 0.  , 0.  , 0.  , 0.49, 0.48, 0.62, 0.18, 0.57, 0.56, 0.49,\n",
              "        0.44, 0.47, 0.58, 0.48, 0.51, 0.51, 0.72, 0.35, 0.29, 0.54, 0.61, 0.39, 0.  , 0.  , 0.  , 0.  , 0.  , 0.  , 0.  , 0.  , 0.  , 0.46, 0.48,\n",
              "        0.65, 0.  , 0.56, 0.58, 0.48, 0.44, 0.46, 0.54, 0.45, 0.52, 0.49, 0.72, 0.29, 0.2 , 0.6 , 0.58, 0.4 , 0.  , 0.  , 0.  , 0.  , 0.  , 0.  ,\n",
              "        0.  , 0.  , 0.  , 0.44, 0.5 , 0.64, 0.  , 0.56, 0.59, 0.48, 0.44, 0.46, 0.52, 0.47, 0.53, 0.49, 0.71, 0.35, 0.07, 0.64, 0.57, 0.42, 0.  ,\n",
              "        0.  , 0.  , 0.  , 0.  , 0.  , 0.  , 0.  , 0.  , 0.43, 0.52, 0.62, 0.  , 0.57, 0.58, 0.47, 0.42, 0.49, 0.62, 0.47, 0.53, 0.51, 0.69, 0.44,\n",
              "        0.  , 0.64, 0.56, 0.46, 0.  , 0.  , 0.  , 0.  , 0.  , 0.  , 0.  , 0.  , 0.  , 0.44, 0.55, 0.55, 0.  , 0.58, 0.58, 0.47, 0.45, 0.48, 0.54,\n",
              "        0.49, 0.54, 0.51, 0.67, 0.53, 0.  , 0.62, 0.58, 0.49, 0.  , 0.  , 0.  , 0.  , 0.  , 0.  , 0.  , 0.  , 0.  , 0.44, 0.6 , 0.44, 0.  , 0.61,\n",
              "        0.58, 0.46, 0.45, 0.49, 0.56, 0.48, 0.51, 0.51, 0.65, 0.61, 0.  , 0.51, 0.62, 0.51, 0.  , 0.  , 0.  , 0.  , 0.  , 0.  , 0.  , 0.  , 0.  ,\n",
              "        0.43, 0.61, 0.34, 0.  , 0.62, 0.57, 0.47, 0.46, 0.49, 0.6 , 0.49, 0.51, 0.48, 0.63, 0.63, 0.  , 0.38, 0.64, 0.51, 0.  , 0.  , 0.  , 0.  ,\n",
              "        0.  , 0.  , 0.  , 0.  , 0.  , 0.49, 0.56, 0.21, 0.  , 0.58, 0.55, 0.47, 0.47, 0.49, 0.53, 0.51, 0.49, 0.47, 0.6 , 0.69, 0.  , 0.3 , 0.57,\n",
              "        0.54, 0.  , 0.  , 0.  , 0.  , 0.  , 0.  , 0.  , 0.  , 0.  , 0.53, 0.59, 0.18, 0.  , 0.58, 0.54, 0.47, 0.46, 0.49, 0.56, 0.52, 0.51, 0.48,\n",
              "        0.6 , 0.67, 0.  , 0.26, 0.58, 0.6 , 0.  , 0.  , 0.  , 0.  , 0.  , 0.  , 0.  , 0.  , 0.  , 0.43, 0.68, 0.19, 0.  , 0.6 , 0.54, 0.47, 0.46,\n",
              "        0.49, 0.54, 0.51, 0.51, 0.49, 0.62, 0.65, 0.  , 0.23, 0.68, 0.5 , 0.  , 0.  , 0.  , 0.  , 0.  , 0.  , 0.  , 0.  , 0.  , 0.  , 0.  , 0.  ,\n",
              "        0.  , 0.33, 0.71, 0.58, 0.53, 0.56, 0.62, 0.57, 0.58, 0.6 , 0.78, 0.27, 0.  , 0.  , 0.  , 0.  , 0.  , 0.  , 0.  , 0.  , 0.  , 0.  , 0.  ,\n",
              "        0.  , 0.  , 0.  , 0.  , 0.  , 0.  , 0.  , 0.1 , 0.21, 0.28, 0.33, 0.38, 0.33, 0.31, 0.24, 0.05, 0.  , 0.  , 0.  , 0.  , 0.  , 0.  , 0.  ,\n",
              "        0.  , 0.  ], dtype=float32))"
            ]
          },
          "metadata": {},
          "execution_count": 7
        }
      ]
    },
    {
      "cell_type": "code",
      "source": [
        "test_images = test_images.reshape((10000, 28 * 28))\n",
        "test_images = test_images.astype('float32') / 255"
      ],
      "metadata": {
        "id": "0s2f5YuqSewi"
      },
      "execution_count": 8,
      "outputs": []
    },
    {
      "cell_type": "code",
      "source": [
        "from keras.utils import to_categorical\n",
        "\n",
        "train_labels = to_categorical(train_labels)\n",
        "test_labels = to_categorical(test_labels)\n",
        "train_labels[30000]"
      ],
      "metadata": {
        "colab": {
          "base_uri": "https://localhost:8080/"
        },
        "id": "Vy04IdmSSk-g",
        "outputId": "051ec349-9c07-422a-9992-3992ddd73ec5"
      },
      "execution_count": 9,
      "outputs": [
        {
          "output_type": "execute_result",
          "data": {
            "text/plain": [
              "array([0., 0., 0., 1., 0., 0., 0., 0., 0., 0.], dtype=float32)"
            ]
          },
          "metadata": {},
          "execution_count": 9
        }
      ]
    },
    {
      "cell_type": "markdown",
      "source": [
        "**Entrenamiento de los sistemas**\n",
        "\n",
        "..."
      ],
      "metadata": {
        "id": "jJNNHtyGaTqg"
      }
    },
    {
      "cell_type": "code",
      "source": [
        "for i in range(8):\n",
        "  print(f'\\nEntrenamiento de la red neuronal para el modelo {i+1}\\n')\n",
        "  cadena[i].fit(train_images, train_labels, epochs=5, batch_size=128)\n",
        "  test_loss, test_acc = cadena[i].evaluate(test_images, test_labels)\n",
        "  print('test_loss:', test_loss)\n",
        "  print('test_acc:', test_acc)"
      ],
      "metadata": {
        "id": "Vi88IWEsaXBA",
        "colab": {
          "base_uri": "https://localhost:8080/"
        },
        "outputId": "4c90b45b-4523-4e0a-ce86-410e6bd13306"
      },
      "execution_count": 10,
      "outputs": [
        {
          "output_type": "stream",
          "name": "stdout",
          "text": [
            "\n",
            "Entrenamiento de la red neuronal para el modelo 1\n",
            "\n",
            "Epoch 1/5\n",
            "469/469 [==============================] - 4s 7ms/step - loss: 1.7663 - accuracy: 0.4049\n",
            "Epoch 2/5\n",
            "469/469 [==============================] - 3s 6ms/step - loss: 1.1005 - accuracy: 0.6418\n",
            "Epoch 3/5\n",
            "469/469 [==============================] - 2s 5ms/step - loss: 0.8122 - accuracy: 0.7383\n",
            "Epoch 4/5\n",
            "469/469 [==============================] - 2s 4ms/step - loss: 0.7060 - accuracy: 0.7620\n",
            "Epoch 5/5\n",
            "469/469 [==============================] - 2s 5ms/step - loss: 0.6469 - accuracy: 0.7779\n",
            "313/313 [==============================] - 1s 2ms/step - loss: 0.6421 - accuracy: 0.7805\n",
            "test_loss: 0.6421357989311218\n",
            "test_acc: 0.7804999947547913\n",
            "\n",
            "Entrenamiento de la red neuronal para el modelo 2\n",
            "\n",
            "Epoch 1/5\n",
            "469/469 [==============================] - 1s 2ms/step - loss: 0.8436 - accuracy: 0.7347\n",
            "Epoch 2/5\n",
            "469/469 [==============================] - 1s 2ms/step - loss: 0.5174 - accuracy: 0.8258\n",
            "Epoch 3/5\n",
            "469/469 [==============================] - 1s 2ms/step - loss: 0.4702 - accuracy: 0.8403\n",
            "Epoch 4/5\n",
            "469/469 [==============================] - 1s 3ms/step - loss: 0.4474 - accuracy: 0.8464\n",
            "Epoch 5/5\n",
            "469/469 [==============================] - 2s 4ms/step - loss: 0.4319 - accuracy: 0.8522\n",
            "313/313 [==============================] - 1s 1ms/step - loss: 0.4647 - accuracy: 0.8376\n",
            "test_loss: 0.46471890807151794\n",
            "test_acc: 0.8375999927520752\n",
            "\n",
            "Entrenamiento de la red neuronal para el modelo 3\n",
            "\n",
            "Epoch 1/5\n",
            "469/469 [==============================] - 1s 2ms/step - loss: 2.1053 - accuracy: 0.3363\n",
            "Epoch 2/5\n",
            "469/469 [==============================] - 1s 2ms/step - loss: 1.7776 - accuracy: 0.5302\n",
            "Epoch 3/5\n",
            "469/469 [==============================] - 1s 2ms/step - loss: 1.5624 - accuracy: 0.5966\n",
            "Epoch 4/5\n",
            "469/469 [==============================] - 1s 2ms/step - loss: 1.4053 - accuracy: 0.6417\n",
            "Epoch 5/5\n",
            "469/469 [==============================] - 1s 2ms/step - loss: 1.2855 - accuracy: 0.6711\n",
            "313/313 [==============================] - 1s 1ms/step - loss: 1.2429 - accuracy: 0.6727\n",
            "test_loss: 1.2428945302963257\n",
            "test_acc: 0.6726999878883362\n",
            "\n",
            "Entrenamiento de la red neuronal para el modelo 4\n",
            "\n",
            "Epoch 1/5\n",
            "469/469 [==============================] - 1s 2ms/step - loss: 1.4495 - accuracy: 0.6394\n",
            "Epoch 2/5\n",
            "469/469 [==============================] - 1s 2ms/step - loss: 0.8516 - accuracy: 0.7902\n",
            "Epoch 3/5\n",
            "469/469 [==============================] - 1s 2ms/step - loss: 0.6314 - accuracy: 0.8153\n",
            "Epoch 4/5\n",
            "469/469 [==============================] - 1s 2ms/step - loss: 0.5403 - accuracy: 0.8290\n",
            "Epoch 5/5\n",
            "469/469 [==============================] - 1s 2ms/step - loss: 0.4954 - accuracy: 0.8365\n",
            "313/313 [==============================] - 1s 2ms/step - loss: 0.5090 - accuracy: 0.8283\n",
            "test_loss: 0.5089706778526306\n",
            "test_acc: 0.8282999992370605\n",
            "\n",
            "Entrenamiento de la red neuronal para el modelo 5\n",
            "\n",
            "Epoch 1/5\n",
            "469/469 [==============================] - 5s 10ms/step - loss: 1.0162 - accuracy: 0.6916\n",
            "Epoch 2/5\n",
            "469/469 [==============================] - 4s 8ms/step - loss: 0.6548 - accuracy: 0.7914\n",
            "Epoch 3/5\n",
            "469/469 [==============================] - 4s 7ms/step - loss: 0.5778 - accuracy: 0.8134\n",
            "Epoch 4/5\n",
            "469/469 [==============================] - 3s 7ms/step - loss: 0.5370 - accuracy: 0.8240\n",
            "Epoch 5/5\n",
            "469/469 [==============================] - 4s 9ms/step - loss: 0.5105 - accuracy: 0.8315\n",
            "313/313 [==============================] - 1s 3ms/step - loss: 0.5230 - accuracy: 0.8230\n",
            "test_loss: 0.5230350494384766\n",
            "test_acc: 0.8230000138282776\n",
            "\n",
            "Entrenamiento de la red neuronal para el modelo 6\n",
            "\n",
            "Epoch 1/5\n",
            "469/469 [==============================] - 5s 9ms/step - loss: 0.5545 - accuracy: 0.8025\n",
            "Epoch 2/5\n",
            "469/469 [==============================] - 5s 11ms/step - loss: 0.3843 - accuracy: 0.8593\n",
            "Epoch 3/5\n",
            "469/469 [==============================] - 4s 9ms/step - loss: 0.3387 - accuracy: 0.8753\n",
            "Epoch 4/5\n",
            "469/469 [==============================] - 5s 10ms/step - loss: 0.3128 - accuracy: 0.8844\n",
            "Epoch 5/5\n",
            "469/469 [==============================] - 5s 11ms/step - loss: 0.2942 - accuracy: 0.8904\n",
            "313/313 [==============================] - 1s 3ms/step - loss: 0.3511 - accuracy: 0.8795\n",
            "test_loss: 0.3511252701282501\n",
            "test_acc: 0.8794999718666077\n",
            "\n",
            "Entrenamiento de la red neuronal para el modelo 7\n",
            "\n",
            "Epoch 1/5\n",
            "469/469 [==============================] - 4s 8ms/step - loss: 1.7120 - accuracy: 0.5810\n",
            "Epoch 2/5\n",
            "469/469 [==============================] - 4s 9ms/step - loss: 1.1314 - accuracy: 0.7132\n",
            "Epoch 3/5\n",
            "469/469 [==============================] - 4s 8ms/step - loss: 0.9254 - accuracy: 0.7314\n",
            "Epoch 4/5\n",
            "469/469 [==============================] - 4s 9ms/step - loss: 0.8232 - accuracy: 0.7437\n",
            "Epoch 5/5\n",
            "469/469 [==============================] - 5s 10ms/step - loss: 0.7619 - accuracy: 0.7530\n",
            "313/313 [==============================] - 1s 3ms/step - loss: 0.7500 - accuracy: 0.7508\n",
            "test_loss: 0.7500059008598328\n",
            "test_acc: 0.7508000135421753\n",
            "\n",
            "Entrenamiento de la red neuronal para el modelo 8\n",
            "\n",
            "Epoch 1/5\n",
            "469/469 [==============================] - 6s 11ms/step - loss: 0.6078 - accuracy: 0.7866\n",
            "Epoch 2/5\n",
            "469/469 [==============================] - 5s 10ms/step - loss: 0.4482 - accuracy: 0.8388\n",
            "Epoch 3/5\n",
            "469/469 [==============================] - 5s 10ms/step - loss: 0.4091 - accuracy: 0.8524\n",
            "Epoch 4/5\n",
            "469/469 [==============================] - 5s 11ms/step - loss: 0.3843 - accuracy: 0.8612\n",
            "Epoch 5/5\n",
            "469/469 [==============================] - 4s 9ms/step - loss: 0.3652 - accuracy: 0.8674\n",
            "313/313 [==============================] - 1s 3ms/step - loss: 0.4366 - accuracy: 0.8386\n",
            "test_loss: 0.43664976954460144\n",
            "test_acc: 0.8385999798774719\n"
          ]
        }
      ]
    },
    {
      "cell_type": "markdown",
      "source": [
        "**Interpretación de los casos 2 y 7 al incrementar las épocas de entrenamiento**\n",
        "\n",
        "..."
      ],
      "metadata": {
        "id": "4M_6wIddZ2I6"
      }
    },
    {
      "cell_type": "code",
      "source": [
        "for i in [2, 7]:\n",
        "  print(f'\\nResultados para la red neuronal {i} con 25 épocas de entrenamiento\\n')\n",
        "  cadena[i-1].fit(train_images, train_labels, epochs=25, batch_size=128)"
      ],
      "metadata": {
        "id": "yKrcr4bXZ2T-",
        "colab": {
          "base_uri": "https://localhost:8080/"
        },
        "outputId": "dac6972c-0c67-4192-e929-da8274af29e8"
      },
      "execution_count": 11,
      "outputs": [
        {
          "metadata": {
            "tags": null
          },
          "name": "stdout",
          "output_type": "stream",
          "text": [
            "\n",
            "Resultados para la red neuronal 2 con 25 épocas de entrenamiento\n",
            "\n",
            "Epoch 1/25\n",
            "469/469 [==============================] - 1s 2ms/step - loss: 0.4217 - accuracy: 0.8554\n",
            "Epoch 2/25\n",
            "469/469 [==============================] - 1s 2ms/step - loss: 0.4139 - accuracy: 0.8565\n",
            "Epoch 3/25\n",
            "469/469 [==============================] - 1s 2ms/step - loss: 0.4055 - accuracy: 0.8606\n",
            "Epoch 4/25\n",
            "469/469 [==============================] - 1s 2ms/step - loss: 0.3997 - accuracy: 0.8616\n",
            "Epoch 5/25\n",
            "469/469 [==============================] - 1s 2ms/step - loss: 0.3955 - accuracy: 0.8628\n",
            "Epoch 6/25\n",
            "469/469 [==============================] - 1s 2ms/step - loss: 0.3913 - accuracy: 0.8646\n",
            "Epoch 7/25\n",
            "469/469 [==============================] - 2s 4ms/step - loss: 0.3878 - accuracy: 0.8649\n",
            "Epoch 8/25\n",
            "469/469 [==============================] - 2s 4ms/step - loss: 0.3841 - accuracy: 0.8661\n",
            "Epoch 9/25\n",
            "469/469 [==============================] - 1s 2ms/step - loss: 0.3814 - accuracy: 0.8670\n",
            "Epoch 10/25\n",
            "469/469 [==============================] - 1s 2ms/step - loss: 0.3786 - accuracy: 0.8680\n",
            "Epoch 11/25\n",
            "469/469 [==============================] - 1s 2ms/step - loss: 0.3769 - accuracy: 0.8688\n",
            "Epoch 12/25\n",
            "469/469 [==============================] - 1s 2ms/step - loss: 0.3746 - accuracy: 0.8696\n",
            "Epoch 13/25\n",
            "469/469 [==============================] - 1s 2ms/step - loss: 0.3715 - accuracy: 0.8701\n",
            "Epoch 14/25\n",
            "469/469 [==============================] - 1s 2ms/step - loss: 0.3698 - accuracy: 0.8704\n",
            "Epoch 15/25\n",
            "469/469 [==============================] - 1s 2ms/step - loss: 0.3678 - accuracy: 0.8712\n",
            "Epoch 16/25\n",
            "469/469 [==============================] - 1s 2ms/step - loss: 0.3665 - accuracy: 0.8714\n",
            "Epoch 17/25\n",
            "469/469 [==============================] - 1s 2ms/step - loss: 0.3652 - accuracy: 0.8718\n",
            "Epoch 18/25\n",
            "469/469 [==============================] - 1s 3ms/step - loss: 0.3633 - accuracy: 0.8734\n",
            "Epoch 19/25\n",
            "469/469 [==============================] - 2s 3ms/step - loss: 0.3618 - accuracy: 0.8729\n",
            "Epoch 20/25\n",
            "469/469 [==============================] - 1s 3ms/step - loss: 0.3601 - accuracy: 0.8739\n",
            "Epoch 21/25\n",
            "469/469 [==============================] - 1s 2ms/step - loss: 0.3590 - accuracy: 0.8734\n",
            "Epoch 22/25\n",
            "469/469 [==============================] - 1s 2ms/step - loss: 0.3582 - accuracy: 0.8745\n",
            "Epoch 23/25\n",
            "469/469 [==============================] - 1s 2ms/step - loss: 0.3566 - accuracy: 0.8746\n",
            "Epoch 24/25\n",
            "469/469 [==============================] - 1s 2ms/step - loss: 0.3547 - accuracy: 0.8753\n",
            "Epoch 25/25\n",
            "469/469 [==============================] - 1s 2ms/step - loss: 0.3543 - accuracy: 0.8751\n",
            "\n",
            "Resultados para la red neuronal 7 con 25 épocas de entrenamiento\n",
            "\n",
            "Epoch 1/25\n",
            "469/469 [==============================] - 4s 8ms/step - loss: 0.7203 - accuracy: 0.7600\n",
            "Epoch 2/25\n",
            "469/469 [==============================] - 4s 9ms/step - loss: 0.6893 - accuracy: 0.7662\n",
            "Epoch 3/25\n",
            "469/469 [==============================] - 3s 7ms/step - loss: 0.6649 - accuracy: 0.7721\n",
            "Epoch 4/25\n",
            "469/469 [==============================] - 4s 8ms/step - loss: 0.6450 - accuracy: 0.7779\n",
            "Epoch 5/25\n",
            "469/469 [==============================] - 5s 10ms/step - loss: 0.6283 - accuracy: 0.7841\n",
            "Epoch 6/25\n",
            "469/469 [==============================] - 3s 7ms/step - loss: 0.6139 - accuracy: 0.7876\n",
            "Epoch 7/25\n",
            "469/469 [==============================] - 3s 7ms/step - loss: 0.6011 - accuracy: 0.7918\n",
            "Epoch 8/25\n",
            "469/469 [==============================] - 4s 8ms/step - loss: 0.5899 - accuracy: 0.7966\n",
            "Epoch 9/25\n",
            "469/469 [==============================] - 4s 9ms/step - loss: 0.5797 - accuracy: 0.7995\n",
            "Epoch 10/25\n",
            "469/469 [==============================] - 4s 8ms/step - loss: 0.5706 - accuracy: 0.8026\n",
            "Epoch 11/25\n",
            "469/469 [==============================] - 4s 8ms/step - loss: 0.5624 - accuracy: 0.8057\n",
            "Epoch 12/25\n",
            "469/469 [==============================] - 5s 10ms/step - loss: 0.5550 - accuracy: 0.8077\n",
            "Epoch 13/25\n",
            "469/469 [==============================] - 3s 7ms/step - loss: 0.5480 - accuracy: 0.8107\n",
            "Epoch 14/25\n",
            "469/469 [==============================] - 4s 8ms/step - loss: 0.5416 - accuracy: 0.8126\n",
            "Epoch 15/25\n",
            "469/469 [==============================] - 4s 10ms/step - loss: 0.5360 - accuracy: 0.8145\n",
            "Epoch 16/25\n",
            "469/469 [==============================] - 3s 7ms/step - loss: 0.5305 - accuracy: 0.8163\n",
            "Epoch 17/25\n",
            "469/469 [==============================] - 3s 7ms/step - loss: 0.5255 - accuracy: 0.8180\n",
            "Epoch 18/25\n",
            "469/469 [==============================] - 4s 8ms/step - loss: 0.5208 - accuracy: 0.8197\n",
            "Epoch 19/25\n",
            "469/469 [==============================] - 4s 9ms/step - loss: 0.5166 - accuracy: 0.8208\n",
            "Epoch 20/25\n",
            "469/469 [==============================] - 4s 7ms/step - loss: 0.5123 - accuracy: 0.8221\n",
            "Epoch 21/25\n",
            "469/469 [==============================] - 3s 7ms/step - loss: 0.5086 - accuracy: 0.8229\n",
            "Epoch 22/25\n",
            "469/469 [==============================] - 4s 8ms/step - loss: 0.5051 - accuracy: 0.8245\n",
            "Epoch 23/25\n",
            "469/469 [==============================] - 3s 7ms/step - loss: 0.5014 - accuracy: 0.8260\n",
            "Epoch 24/25\n",
            "469/469 [==============================] - 3s 7ms/step - loss: 0.4983 - accuracy: 0.8265\n",
            "Epoch 25/25\n",
            "469/469 [==============================] - 4s 9ms/step - loss: 0.4953 - accuracy: 0.8284\n"
          ]
        }
      ]
    },
    {
      "cell_type": "markdown",
      "source": [
        "**Predicciones sobre la sexta imagen**\n",
        "\n",
        "..."
      ],
      "metadata": {
        "id": "aF5fScrPb_pF"
      }
    },
    {
      "cell_type": "code",
      "source": [
        "(train_images, train_labels), (test_images, test_labels) = tf.keras.datasets.fashion_mnist.load_data()\n",
        "import matplotlib.pyplot as plt\n",
        "digit = test_images[5]\n",
        "plt.imshow(digit, cmap=plt.cm.binary)\n",
        "plt.show()"
      ],
      "metadata": {
        "id": "0GQeXAntb_1H",
        "colab": {
          "base_uri": "https://localhost:8080/",
          "height": 430
        },
        "outputId": "69361844-ac3e-4157-aa55-7724b9d3760f"
      },
      "execution_count": 12,
      "outputs": [
        {
          "data": {
            "image/png": "[encoded data removed]",
            "text/plain": [
              "<Figure size 640x480 with 1 Axes>"
            ]
          },
          "metadata": {},
          "output_type": "display_data"
        }
      ]
    },
    {
      "cell_type": "code",
      "source": [
        "train_images = train_images.reshape((60000, 28 * 28))\n",
        "test_images = test_images.reshape((10000, 28 * 28))\n",
        "\n",
        "train_images = train_images.astype('float32') / 255\n",
        "test_images = test_images.astype('float32') / 255\n",
        "\n",
        "print(f\"Etiqueta original que le corresponde a la imagen 6:\\n{test_labels[5]}\")\n",
        "\n",
        "# Hacemos las predicciones con las imágenes de Test\n",
        "for i in range(8):\n",
        "  predictions = cadena[i].predict(test_images)\n",
        "\n",
        "  print(f\"\\nRed neuronal número {i+1}\\n\")\n",
        "  print(\"\\n=VEMOS LA PREDICCIÓN DEL ELEMENTO 6 (QUE DEBERÍA SER UN 1)============\\n\")\n",
        "  print(np.argmax(predictions[5]))\n",
        "  print(\"=======================================================================\")\n",
        "  print(\"\\n=LA SUMA DE TODAS LAS PREDICCIONES PARA EL ELEMENTO 6 DEBERÍA SER 1===\\n\")\n",
        "  print(np.sum(predictions[5]))"
      ],
      "metadata": {
        "colab": {
          "base_uri": "https://localhost:8080/"
        },
        "id": "31RTTsfoWDGZ",
        "outputId": "a0851188-29d8-4053-a3c9-3262c40c0cc3"
      },
      "execution_count": 13,
      "outputs": [
        {
          "metadata": {
            "tags": null
          },
          "name": "stdout",
          "output_type": "stream",
          "text": [
            "Etiqueta original que le corresponde a la imagen 6:\n",
            "1\n",
            "313/313 [==============================] - 0s 1ms/step\n",
            "\n",
            "Red neuronal número 1\n",
            "\n",
            "\n",
            "=VEMOS LA PREDICCIÓN DEL ELEMENTO 6 (QUE DEBERÍA SER UN 1)============\n",
            "\n",
            "1\n",
            "=======================================================================\n",
            "\n",
            "=LA SUMA DE TODAS LAS PREDICCIONES PARA EL ELEMENTO 6 DEBERÍA SER 1===\n",
            "\n",
            "1.0\n",
            "313/313 [==============================] - 0s 1ms/step\n",
            "\n",
            "Red neuronal número 2\n",
            "\n",
            "\n",
            "=VEMOS LA PREDICCIÓN DEL ELEMENTO 6 (QUE DEBERÍA SER UN 1)============\n",
            "\n",
            "1\n",
            "=======================================================================\n",
            "\n",
            "=LA SUMA DE TODAS LAS PREDICCIONES PARA EL ELEMENTO 6 DEBERÍA SER 1===\n",
            "\n",
            "1.0000001\n",
            "313/313 [==============================] - 0s 1ms/step\n",
            "\n",
            "Red neuronal número 3\n",
            "\n",
            "\n",
            "=VEMOS LA PREDICCIÓN DEL ELEMENTO 6 (QUE DEBERÍA SER UN 1)============\n",
            "\n",
            "1\n",
            "=======================================================================\n",
            "\n",
            "=LA SUMA DE TODAS LAS PREDICCIONES PARA EL ELEMENTO 6 DEBERÍA SER 1===\n",
            "\n",
            "1.0000001\n",
            "313/313 [==============================] - 0s 1ms/step\n",
            "\n",
            "Red neuronal número 4\n",
            "\n",
            "\n",
            "=VEMOS LA PREDICCIÓN DEL ELEMENTO 6 (QUE DEBERÍA SER UN 1)============\n",
            "\n",
            "1\n",
            "=======================================================================\n",
            "\n",
            "=LA SUMA DE TODAS LAS PREDICCIONES PARA EL ELEMENTO 6 DEBERÍA SER 1===\n",
            "\n",
            "1.0\n",
            "313/313 [==============================] - 1s 2ms/step\n",
            "\n",
            "Red neuronal número 5\n",
            "\n",
            "\n",
            "=VEMOS LA PREDICCIÓN DEL ELEMENTO 6 (QUE DEBERÍA SER UN 1)============\n",
            "\n",
            "1\n",
            "=======================================================================\n",
            "\n",
            "=LA SUMA DE TODAS LAS PREDICCIONES PARA EL ELEMENTO 6 DEBERÍA SER 1===\n",
            "\n",
            "1.0000001\n",
            "313/313 [==============================] - 1s 3ms/step\n",
            "\n",
            "Red neuronal número 6\n",
            "\n",
            "\n",
            "=VEMOS LA PREDICCIÓN DEL ELEMENTO 6 (QUE DEBERÍA SER UN 1)============\n",
            "\n",
            "1\n",
            "=======================================================================\n",
            "\n",
            "=LA SUMA DE TODAS LAS PREDICCIONES PARA EL ELEMENTO 6 DEBERÍA SER 1===\n",
            "\n",
            "0.99999994\n",
            "313/313 [==============================] - 1s 4ms/step\n",
            "\n",
            "Red neuronal número 7\n",
            "\n",
            "\n",
            "=VEMOS LA PREDICCIÓN DEL ELEMENTO 6 (QUE DEBERÍA SER UN 1)============\n",
            "\n",
            "1\n",
            "=======================================================================\n",
            "\n",
            "=LA SUMA DE TODAS LAS PREDICCIONES PARA EL ELEMENTO 6 DEBERÍA SER 1===\n",
            "\n",
            "0.99999994\n",
            "313/313 [==============================] - 1s 2ms/step\n",
            "\n",
            "Red neuronal número 8\n",
            "\n",
            "\n",
            "=VEMOS LA PREDICCIÓN DEL ELEMENTO 6 (QUE DEBERÍA SER UN 1)============\n",
            "\n",
            "1\n",
            "=======================================================================\n",
            "\n",
            "=LA SUMA DE TODAS LAS PREDICCIONES PARA EL ELEMENTO 6 DEBERÍA SER 1===\n",
            "\n",
            "0.99999994\n"
          ]
        }
      ]
    },
    {
      "cell_type": "markdown",
      "source": [
        "**Ejercicio 6**\n",
        "\n",
        "..."
      ],
      "metadata": {
        "id": "_FZfFonoh3S5"
      }
    },
    {
      "cell_type": "code",
      "source": [
        "def plot_image(i, predictions_array, true_label, img):\n",
        "  class_names = ['T-shirt/top', 'Trouser', 'Pullover', 'Dress', 'Coat',\n",
        "                 'Sandal', 'Shirt', 'Sneaker', 'Bag', 'Ankle boot']\n",
        "\n",
        "  predictions_array, true_label, img = predictions_array, true_label[i], img[i]\n",
        "  plt.grid(False)\n",
        "  plt.yticks([])\n",
        "  plt.xticks([])\n",
        "\n",
        "  plt.imshow(img, cmap=plt.cm.binary)\n",
        "\n",
        "  predicted_label = np.argmax(predictions_array)\n",
        "  if predicted_label == true_label:\n",
        "    color = 'blue'\n",
        "  else:\n",
        "    color = 'red'\n",
        "\n",
        "  plt.xlabel(\"{} {:2.0f}% ({})\".format(class_names[predicted_label],\n",
        "                                       100*np.max(predictions_array),\n",
        "                                       class_names[true_label]),\n",
        "                                       color = color)\n",
        "\n",
        "def plot_value_array(i, predictions_array, true_label):\n",
        "  predictions_array, true_label = predictions_array, true_label[i]\n",
        "  plt.grid(False)\n",
        "  plt.xticks(range(10))\n",
        "  plt.yticks([])\n",
        "  thisplot = plt.bar(range(10), predictions_array, color = '#777777')\n",
        "  plt.ylim([0, 1])\n",
        "  predicted_label = np.argmax(predictions_array)\n",
        "\n",
        "  thisplot[predicted_label].set_color('red')\n",
        "  thisplot[true_label].set_color('blue')\n"
      ],
      "metadata": {
        "id": "-qft6nixh3ig"
      },
      "execution_count": 31,
      "outputs": []
    },
    {
      "cell_type": "markdown",
      "source": [
        "Aplicación de las funciones"
      ],
      "metadata": {
        "id": "yX8_lxTej5iS"
      }
    },
    {
      "cell_type": "code",
      "source": [
        "(train_images, train_labels), (test_images, test_labels) = tf.keras.datasets.fashion_mnist.load_data()\n",
        "\n",
        "for i in range(8):\n",
        "  plt.figure(figsize=(6, 3))\n",
        "  plt.subplot(1, 2, 1)\n",
        "  plot_image(i, predictions[i], test_labels, test_images)\n",
        "  plt.subplot(1, 2, 2)\n",
        "  plot_value_array(i, predictions[i], test_labels)\n",
        "  plt.show()"
      ],
      "metadata": {
        "colab": {
          "base_uri": "https://localhost:8080/",
          "height": 1000
        },
        "id": "WwS9YQUUj5se",
        "outputId": "2b6d9677-f0dd-4249-8e20-b03e23be6374"
      },
      "execution_count": 32,
      "outputs": [
        {
          "output_type": "display_data",
          "data": {
            "text/plain": [
              "<Figure size 600x300 with 2 Axes>"
            ],
            "image/png": "[encoded data removed]"
          },
          "metadata": {}
        },
        {
          "output_type": "display_data",
          "data": {
            "text/plain": [
              "<Figure size 600x300 with 2 Axes>"
            ],
            "image/png": "[encoded data removed]"
          },
          "metadata": {}
        },
        {
          "output_type": "display_data",
          "data": {
            "text/plain": [
              "<Figure size 600x300 with 2 Axes>"
            ],
            "image/png": "[encoded data removed]"
          },
          "metadata": {}
        },
        {
          "output_type": "display_data",
          "data": {
            "text/plain": [
              "<Figure size 600x300 with 2 Axes>"
            ],
            "image/png": "[encoded data removed]"
          },
          "metadata": {}
        },
        {
          "output_type": "display_data",
          "data": {
            "text/plain": [
              "<Figure size 600x300 with 2 Axes>"
            ],
            "image/png": "[encoded data removed]"
          },
          "metadata": {}
        },
        {
          "output_type": "display_data",
          "data": {
            "text/plain": [
              "<Figure size 600x300 with 2 Axes>"
            ],
            "image/png": "[encoded data removed]"
          },
          "metadata": {}
        },
        {
          "output_type": "display_data",
          "data": {
            "text/plain": [
              "<Figure size 600x300 with 2 Axes>"
            ],
            "image/png": "[encoded data removed]"
          },
          "metadata": {}
        },
        {
          "output_type": "display_data",
          "data": {
            "text/plain": [
              "<Figure size 600x300 with 2 Axes>"
            ],
            "image/png": "[encoded data removed]"
          },
          "metadata": {}
        }
      ]
    }
  ]
}