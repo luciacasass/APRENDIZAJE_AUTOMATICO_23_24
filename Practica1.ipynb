{
  "nbformat": 4,
  "nbformat_minor": 0,
  "metadata": {
    "colab": {
      "provenance": [],
      "authorship_tag": "ABX9TyNcELi2RFbPqBC7aae51Ck2",
      "include_colab_link": true
    },
    "kernelspec": {
      "name": "python3",
      "display_name": "Python 3"
    },
    "language_info": {
      "name": "python"
    }
  },
  "cells": [
    {
      "cell_type": "markdown",
      "metadata": {
        "id": "view-in-github",
        "colab_type": "text"
      },
      "source": [
        "<a href=\"https://colab.research.google.com/github/luciacasass/APRENDIZAJE_AUTOMATICO_23_24/blob/main/Practica1.ipynb\" target=\"_parent\"><img src=\"https://colab.research.google.com/assets/colab-badge.svg\" alt=\"Open In Colab\"/></a>"
      ]
    },
    {
      "cell_type": "markdown",
      "source": [
        "# Práctica 1. Diseño, Entrenamiento y Test de un Sistema de Redes de Neuronas Artificiales\n",
        "## Aprendizaje Automático\n",
        "Lucía Casas Sierra, Alba López Devesa, Paula Redondo Sastre"
      ],
      "metadata": {
        "id": "zI3nxE-QG6Iz"
      }
    },
    {
      "cell_type": "markdown",
      "source": [
        "**Introducción...**"
      ],
      "metadata": {
        "id": "buxVGAB_ReJc"
      }
    },
    {
      "cell_type": "code",
      "source": [
        "# 1._ IMPORTAMOS KERAS\n",
        "%tensorflow_version 2.x   # librería interna que ejecuta de forma eficiente los tensores; es el motor del sistema para hacer cálculo de multiplicaciones de matrices etc\n",
        "import tensorflow as tf\n",
        "from tensorflow import keras\n",
        "# print(tf.keras.__version__)\n",
        "print(\"GPU Available:\", tf.config.list_physical_devices('GPU'))\n",
        "print(tf.__version__)"
      ],
      "metadata": {
        "colab": {
          "base_uri": "https://localhost:8080/"
        },
        "id": "rmHOclbiHcg2",
        "outputId": "92e74d93-7d9b-46dd-ccc2-d7ce037d64bb"
      },
      "execution_count": 45,
      "outputs": [
        {
          "output_type": "stream",
          "name": "stdout",
          "text": [
            "Colab only includes TensorFlow 2.x; %tensorflow_version has no effect.\n",
            "GPU Available: []\n",
            "2.13.0\n"
          ]
        }
      ]
    },
    {
      "cell_type": "markdown",
      "source": [
        "Cargamos el conjunto de datos Fashion-MNIST en Keras"
      ],
      "metadata": {
        "id": "eZIxYczcIBVv"
      }
    },
    {
      "cell_type": "code",
      "source": [
        "# 2.- CARGAMOS EL CONJUNTO DE DATOS MINIST EN KERAS\n",
        "# mnist = tf.keras.datasets.mnist\n",
        "from keras.datasets import mnist  # 70k imágenes\n",
        "\n",
        "(train_images, train_labels), (test_images, test_labels) = tf.keras.datasets.fashion_mnist.load_data()"
      ],
      "metadata": {
        "id": "M5Eg9tJRIBgG"
      },
      "execution_count": 46,
      "outputs": []
    },
    {
      "cell_type": "markdown",
      "source": [
        "Comprobación de la forma de los datos..."
      ],
      "metadata": {
        "id": "3iiU0lI7RjNU"
      }
    },
    {
      "cell_type": "code",
      "source": [
        "print(train_images.shape)"
      ],
      "metadata": {
        "colab": {
          "base_uri": "https://localhost:8080/"
        },
        "id": "R5x2_Y4sIcfG",
        "outputId": "a2c463fc-a415-4ac2-ce08-df29365e3741"
      },
      "execution_count": 47,
      "outputs": [
        {
          "output_type": "stream",
          "name": "stdout",
          "text": [
            "(60000, 28, 28)\n"
          ]
        }
      ]
    },
    {
      "cell_type": "markdown",
      "source": [
        "**Construcción de la RNA**\n",
        "\n",
        "..."
      ],
      "metadata": {
        "id": "3mktVEU4STj3"
      }
    },
    {
      "cell_type": "code",
      "source": [
        "from keras import models\n",
        "from keras import layers\n",
        "\n",
        "# Creación de la lista con las cadenas model1, model2, ..., model8 que servirán\n",
        "# para nombrar cada uno de los distintos modelos de estudio\n",
        "cadena = ['model'] * 8\n",
        "for i in range(8):\n",
        "  cadena[i] = cadena[i] + str(i+1)\n",
        "\n",
        "cont = 0\n",
        "\n",
        "# Construcción\n",
        "for n in [10, 512]:\n",
        "  for act in ['relu', 'sigmoid']:\n",
        "    for opt in ['sgd', 'rmsprop']:\n",
        "      cadena[cont] = vars()\n",
        "      cadena[cont] = models.Sequential()\n",
        "\n",
        "      cadena[cont].add(layers.Dense(n, activation=act, input_shape=(28*28,)))\n",
        "      cadena[cont].add(layers.Dense(10, activation = 'softmax'))\n",
        "\n",
        "      cadena[cont].compile(optimizer=opt,\n",
        "                loss='categorical_crossentropy',\n",
        "                metrics=['accuracy'])\n",
        "      cont += 1"
      ],
      "metadata": {
        "id": "kLMzyL2fSfio"
      },
      "execution_count": 48,
      "outputs": []
    },
    {
      "cell_type": "markdown",
      "source": [
        "**Resumen de cada uno de los diferentes modelos**\n",
        "\n",
        "..."
      ],
      "metadata": {
        "id": "tloubzgjZdqV"
      }
    },
    {
      "cell_type": "code",
      "source": [
        "for i in range(8):\n",
        "  print(f'\\nResumen del modelo para los siguientes datos:\\n{n} capas, función de activación {act}\\n')\n",
        "  cadena[i].summary()"
      ],
      "metadata": {
        "id": "wutIkHkyZeBy",
        "outputId": "64b70b58-e197-4e42-f3aa-a3cb9fe5f175",
        "colab": {
          "base_uri": "https://localhost:8080/"
        }
      },
      "execution_count": 49,
      "outputs": [
        {
          "output_type": "stream",
          "name": "stdout",
          "text": [
            "\n",
            "Resumen del modelo para los siguientes datos:\n",
            "512 capas, función de activación sigmoid\n",
            "\n",
            "Model: \"sequential_97\"\n",
            "_________________________________________________________________\n",
            " Layer (type)                Output Shape              Param #   \n",
            "=================================================================\n",
            " dense_193 (Dense)           (None, 10)                7850      \n",
            "                                                                 \n",
            " dense_194 (Dense)           (None, 10)                110       \n",
            "                                                                 \n",
            "=================================================================\n",
            "Total params: 7960 (31.09 KB)\n",
            "Trainable params: 7960 (31.09 KB)\n",
            "Non-trainable params: 0 (0.00 Byte)\n",
            "_________________________________________________________________\n",
            "\n",
            "Resumen del modelo para los siguientes datos:\n",
            "512 capas, función de activación sigmoid\n",
            "\n",
            "Model: \"sequential_98\"\n",
            "_________________________________________________________________\n",
            " Layer (type)                Output Shape              Param #   \n",
            "=================================================================\n",
            " dense_195 (Dense)           (None, 10)                7850      \n",
            "                                                                 \n",
            " dense_196 (Dense)           (None, 10)                110       \n",
            "                                                                 \n",
            "=================================================================\n",
            "Total params: 7960 (31.09 KB)\n",
            "Trainable params: 7960 (31.09 KB)\n",
            "Non-trainable params: 0 (0.00 Byte)\n",
            "_________________________________________________________________\n",
            "\n",
            "Resumen del modelo para los siguientes datos:\n",
            "512 capas, función de activación sigmoid\n",
            "\n",
            "Model: \"sequential_99\"\n",
            "_________________________________________________________________\n",
            " Layer (type)                Output Shape              Param #   \n",
            "=================================================================\n",
            " dense_197 (Dense)           (None, 10)                7850      \n",
            "                                                                 \n",
            " dense_198 (Dense)           (None, 10)                110       \n",
            "                                                                 \n",
            "=================================================================\n",
            "Total params: 7960 (31.09 KB)\n",
            "Trainable params: 7960 (31.09 KB)\n",
            "Non-trainable params: 0 (0.00 Byte)\n",
            "_________________________________________________________________\n",
            "\n",
            "Resumen del modelo para los siguientes datos:\n",
            "512 capas, función de activación sigmoid\n",
            "\n",
            "Model: \"sequential_100\"\n",
            "_________________________________________________________________\n",
            " Layer (type)                Output Shape              Param #   \n",
            "=================================================================\n",
            " dense_199 (Dense)           (None, 10)                7850      \n",
            "                                                                 \n",
            " dense_200 (Dense)           (None, 10)                110       \n",
            "                                                                 \n",
            "=================================================================\n",
            "Total params: 7960 (31.09 KB)\n",
            "Trainable params: 7960 (31.09 KB)\n",
            "Non-trainable params: 0 (0.00 Byte)\n",
            "_________________________________________________________________\n",
            "\n",
            "Resumen del modelo para los siguientes datos:\n",
            "512 capas, función de activación sigmoid\n",
            "\n",
            "Model: \"sequential_101\"\n",
            "_________________________________________________________________\n",
            " Layer (type)                Output Shape              Param #   \n",
            "=================================================================\n",
            " dense_201 (Dense)           (None, 512)               401920    \n",
            "                                                                 \n",
            " dense_202 (Dense)           (None, 10)                5130      \n",
            "                                                                 \n",
            "=================================================================\n",
            "Total params: 407050 (1.55 MB)\n",
            "Trainable params: 407050 (1.55 MB)\n",
            "Non-trainable params: 0 (0.00 Byte)\n",
            "_________________________________________________________________\n",
            "\n",
            "Resumen del modelo para los siguientes datos:\n",
            "512 capas, función de activación sigmoid\n",
            "\n",
            "Model: \"sequential_102\"\n",
            "_________________________________________________________________\n",
            " Layer (type)                Output Shape              Param #   \n",
            "=================================================================\n",
            " dense_203 (Dense)           (None, 512)               401920    \n",
            "                                                                 \n",
            " dense_204 (Dense)           (None, 10)                5130      \n",
            "                                                                 \n",
            "=================================================================\n",
            "Total params: 407050 (1.55 MB)\n",
            "Trainable params: 407050 (1.55 MB)\n",
            "Non-trainable params: 0 (0.00 Byte)\n",
            "_________________________________________________________________\n",
            "\n",
            "Resumen del modelo para los siguientes datos:\n",
            "512 capas, función de activación sigmoid\n",
            "\n",
            "Model: \"sequential_103\"\n",
            "_________________________________________________________________\n",
            " Layer (type)                Output Shape              Param #   \n",
            "=================================================================\n",
            " dense_205 (Dense)           (None, 512)               401920    \n",
            "                                                                 \n",
            " dense_206 (Dense)           (None, 10)                5130      \n",
            "                                                                 \n",
            "=================================================================\n",
            "Total params: 407050 (1.55 MB)\n",
            "Trainable params: 407050 (1.55 MB)\n",
            "Non-trainable params: 0 (0.00 Byte)\n",
            "_________________________________________________________________\n",
            "\n",
            "Resumen del modelo para los siguientes datos:\n",
            "512 capas, función de activación sigmoid\n",
            "\n",
            "Model: \"sequential_104\"\n",
            "_________________________________________________________________\n",
            " Layer (type)                Output Shape              Param #   \n",
            "=================================================================\n",
            " dense_207 (Dense)           (None, 512)               401920    \n",
            "                                                                 \n",
            " dense_208 (Dense)           (None, 10)                5130      \n",
            "                                                                 \n",
            "=================================================================\n",
            "Total params: 407050 (1.55 MB)\n",
            "Trainable params: 407050 (1.55 MB)\n",
            "Non-trainable params: 0 (0.00 Byte)\n",
            "_________________________________________________________________\n"
          ]
        }
      ]
    },
    {
      "cell_type": "markdown",
      "source": [
        "**Interpretación de los casos 2 y 7 al incrementar las épocas de entrenamiento**\n",
        "\n",
        "..."
      ],
      "metadata": {
        "id": "4M_6wIddZ2I6"
      }
    },
    {
      "cell_type": "code",
      "source": [],
      "metadata": {
        "id": "yKrcr4bXZ2T-"
      },
      "execution_count": null,
      "outputs": []
    }
  ]
}